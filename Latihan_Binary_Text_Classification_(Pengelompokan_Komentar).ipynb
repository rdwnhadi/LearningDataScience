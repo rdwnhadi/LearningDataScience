{
  "nbformat": 4,
  "nbformat_minor": 0,
  "metadata": {
    "colab": {
      "name": "Latihan Binary Text Classification (Pengelompokan Komentar)",
      "provenance": [],
      "authorship_tag": "ABX9TyMEGBmETtdnEkCSiHqnckOr",
      "include_colab_link": true
    },
    "kernelspec": {
      "name": "python3",
      "display_name": "Python 3"
    },
    "language_info": {
      "name": "python"
    }
  },
  "cells": [
    {
      "cell_type": "markdown",
      "metadata": {
        "id": "view-in-github",
        "colab_type": "text"
      },
      "source": [
        "<a href=\"https://colab.research.google.com/github/rdwnhadi/LearningDataScience/blob/main/Latihan_Binary_Text_Classification_(Pengelompokan_Komentar).ipynb\" target=\"_parent\"><img src=\"https://colab.research.google.com/assets/colab-badge.svg\" alt=\"Open In Colab\"/></a>"
      ]
    },
    {
      "cell_type": "code",
      "metadata": {
        "id": "D84Kv0J9LnJt"
      },
      "source": [
        "import pandas as pd\n",
        "df = pd.read_csv('yelp_labelled.txt', names=['sentence', 'label'], sep='\\t')"
      ],
      "execution_count": 18,
      "outputs": []
    },
    {
      "cell_type": "code",
      "metadata": {
        "colab": {
          "base_uri": "https://localhost:8080/"
        },
        "id": "eFxrjQtxMJJ1",
        "outputId": "a22708b0-9ec1-4f46-bf7d-2d94ebaef896"
      },
      "source": [
        "#cek data\n",
        "df.tail"
      ],
      "execution_count": 19,
      "outputs": [
        {
          "output_type": "execute_result",
          "data": {
            "text/plain": [
              "<bound method NDFrame.tail of                                               sentence  label\n",
              "0                             Wow... Loved this place.      1\n",
              "1                                   Crust is not good.      0\n",
              "2            Not tasty and the texture was just nasty.      0\n",
              "3    Stopped by during the late May bank holiday of...      1\n",
              "4    The selection on the menu was great and so wer...      1\n",
              "..                                                 ...    ...\n",
              "995  I think food should have flavor and texture an...      0\n",
              "996                           Appetite instantly gone.      0\n",
              "997  Overall I was not impressed and would not go b...      0\n",
              "998  The whole experience was underwhelming, and I ...      0\n",
              "999  Then, as if I hadn't wasted enough of my life ...      0\n",
              "\n",
              "[1000 rows x 2 columns]>"
            ]
          },
          "metadata": {
            "tags": []
          },
          "execution_count": 19
        }
      ]
    },
    {
      "cell_type": "code",
      "metadata": {
        "id": "8c4Hx7sTMP-0"
      },
      "source": [
        "#membagi tes dan latih dengan test_size = 0.2\n",
        "from sklearn.model_selection import train_test_split\n",
        "kalimat = df['sentence'].values\n",
        "y = df['label'].values\n",
        "kalimat_latih, kalimat_test, y_latih, y_test = train_test_split(kalimat, y, test_size=0.2)"
      ],
      "execution_count": 20,
      "outputs": []
    },
    {
      "cell_type": "code",
      "metadata": {
        "id": "1z2nPjcmM3R6"
      },
      "source": [
        "#padding dan sequence dan tokenisasi\n",
        "from tensorflow.keras.preprocessing.text import Tokenizer\n",
        "from tensorflow.keras.preprocessing.sequence import pad_sequences\n",
        " \n",
        "tokenizer = Tokenizer(num_words=250, oov_token='x')\n",
        "tokenizer.fit_on_texts(kalimat_latih) \n",
        "tokenizer.fit_on_texts(kalimat_test)\n",
        " \n",
        "sekuens_latih = tokenizer.texts_to_sequences(kalimat_latih)\n",
        "sekuens_test = tokenizer.texts_to_sequences(kalimat_test)\n",
        " \n",
        "padded_latih = pad_sequences(sekuens_latih) \n",
        "padded_test = pad_sequences(sekuens_test)"
      ],
      "execution_count": 21,
      "outputs": []
    },
    {
      "cell_type": "code",
      "metadata": {
        "id": "_ACb78GqNRX7"
      },
      "source": [
        "#hidden layer, loss, dan optimasi\n",
        "import tensorflow as tf\n",
        "model = tf.keras.Sequential([\n",
        "    tf.keras.layers.Embedding(250, 16, input_length=20),\n",
        "    tf.keras.layers.GlobalAveragePooling1D(),\n",
        "    tf.keras.layers.Dense(24, activation='relu'),\n",
        "    tf.keras.layers.Dense(1, activation='sigmoid')\n",
        "])\n",
        "model.compile(loss='binary_crossentropy',optimizer='adam',metrics=['accuracy'])"
      ],
      "execution_count": 22,
      "outputs": []
    },
    {
      "cell_type": "code",
      "metadata": {
        "colab": {
          "base_uri": "https://localhost:8080/"
        },
        "id": "RsZfHmTsNdm8",
        "outputId": "e1bf0cd3-d2fe-445c-dbc2-0e22f1f7b32d"
      },
      "source": [
        "#uji akurasi dan loss\n",
        "num_epochs = 60\n",
        "history = model.fit(padded_latih, y_latih, epochs=num_epochs, \n",
        "                    validation_data=(padded_test, y_test), verbose=2)"
      ],
      "execution_count": 23,
      "outputs": [
        {
          "output_type": "stream",
          "text": [
            "Epoch 1/60\n",
            "WARNING:tensorflow:Model was constructed with shape (None, 20) for input KerasTensor(type_spec=TensorSpec(shape=(None, 20), dtype=tf.float32, name='embedding_1_input'), name='embedding_1_input', description=\"created by layer 'embedding_1_input'\"), but it was called on an input with incompatible shape (32, 32).\n",
            "WARNING:tensorflow:Model was constructed with shape (None, 20) for input KerasTensor(type_spec=TensorSpec(shape=(None, 20), dtype=tf.float32, name='embedding_1_input'), name='embedding_1_input', description=\"created by layer 'embedding_1_input'\"), but it was called on an input with incompatible shape (32, 32).\n",
            "WARNING:tensorflow:Model was constructed with shape (None, 20) for input KerasTensor(type_spec=TensorSpec(shape=(None, 20), dtype=tf.float32, name='embedding_1_input'), name='embedding_1_input', description=\"created by layer 'embedding_1_input'\"), but it was called on an input with incompatible shape (None, 31).\n",
            "25/25 - 1s - loss: 0.6927 - accuracy: 0.5063 - val_loss: 0.6920 - val_accuracy: 0.5550\n",
            "Epoch 2/60\n",
            "25/25 - 0s - loss: 0.6910 - accuracy: 0.5938 - val_loss: 0.6914 - val_accuracy: 0.5650\n",
            "Epoch 3/60\n",
            "25/25 - 0s - loss: 0.6877 - accuracy: 0.6463 - val_loss: 0.6879 - val_accuracy: 0.6200\n",
            "Epoch 4/60\n",
            "25/25 - 0s - loss: 0.6828 - accuracy: 0.6450 - val_loss: 0.6845 - val_accuracy: 0.6300\n",
            "Epoch 5/60\n",
            "25/25 - 0s - loss: 0.6751 - accuracy: 0.6637 - val_loss: 0.6761 - val_accuracy: 0.5950\n",
            "Epoch 6/60\n",
            "25/25 - 0s - loss: 0.6641 - accuracy: 0.6388 - val_loss: 0.6694 - val_accuracy: 0.6650\n",
            "Epoch 7/60\n",
            "25/25 - 0s - loss: 0.6505 - accuracy: 0.7038 - val_loss: 0.6565 - val_accuracy: 0.6450\n",
            "Epoch 8/60\n",
            "25/25 - 0s - loss: 0.6317 - accuracy: 0.7063 - val_loss: 0.6410 - val_accuracy: 0.6650\n",
            "Epoch 9/60\n",
            "25/25 - 0s - loss: 0.6103 - accuracy: 0.7287 - val_loss: 0.6243 - val_accuracy: 0.7050\n",
            "Epoch 10/60\n",
            "25/25 - 0s - loss: 0.5877 - accuracy: 0.7325 - val_loss: 0.6169 - val_accuracy: 0.6850\n",
            "Epoch 11/60\n",
            "25/25 - 0s - loss: 0.5597 - accuracy: 0.7763 - val_loss: 0.5823 - val_accuracy: 0.7500\n",
            "Epoch 12/60\n",
            "25/25 - 0s - loss: 0.5288 - accuracy: 0.8175 - val_loss: 0.5657 - val_accuracy: 0.7500\n",
            "Epoch 13/60\n",
            "25/25 - 0s - loss: 0.5044 - accuracy: 0.8150 - val_loss: 0.5439 - val_accuracy: 0.7650\n",
            "Epoch 14/60\n",
            "25/25 - 0s - loss: 0.4757 - accuracy: 0.8363 - val_loss: 0.5250 - val_accuracy: 0.7700\n",
            "Epoch 15/60\n",
            "25/25 - 0s - loss: 0.4537 - accuracy: 0.8175 - val_loss: 0.5314 - val_accuracy: 0.7600\n",
            "Epoch 16/60\n",
            "25/25 - 0s - loss: 0.4384 - accuracy: 0.8325 - val_loss: 0.5219 - val_accuracy: 0.7700\n",
            "Epoch 17/60\n",
            "25/25 - 0s - loss: 0.4084 - accuracy: 0.8475 - val_loss: 0.4940 - val_accuracy: 0.7800\n",
            "Epoch 18/60\n",
            "25/25 - 0s - loss: 0.3897 - accuracy: 0.8587 - val_loss: 0.4884 - val_accuracy: 0.7800\n",
            "Epoch 19/60\n",
            "25/25 - 0s - loss: 0.3715 - accuracy: 0.8675 - val_loss: 0.4851 - val_accuracy: 0.7850\n",
            "Epoch 20/60\n",
            "25/25 - 0s - loss: 0.3588 - accuracy: 0.8687 - val_loss: 0.4809 - val_accuracy: 0.7950\n",
            "Epoch 21/60\n",
            "25/25 - 0s - loss: 0.3442 - accuracy: 0.8687 - val_loss: 0.4776 - val_accuracy: 0.8000\n",
            "Epoch 22/60\n",
            "25/25 - 0s - loss: 0.3320 - accuracy: 0.8750 - val_loss: 0.4775 - val_accuracy: 0.8000\n",
            "Epoch 23/60\n",
            "25/25 - 0s - loss: 0.3210 - accuracy: 0.8788 - val_loss: 0.4791 - val_accuracy: 0.7900\n",
            "Epoch 24/60\n",
            "25/25 - 0s - loss: 0.3115 - accuracy: 0.8788 - val_loss: 0.4801 - val_accuracy: 0.8000\n",
            "Epoch 25/60\n",
            "25/25 - 0s - loss: 0.3015 - accuracy: 0.8888 - val_loss: 0.4795 - val_accuracy: 0.8100\n",
            "Epoch 26/60\n",
            "25/25 - 0s - loss: 0.2943 - accuracy: 0.8900 - val_loss: 0.4907 - val_accuracy: 0.7950\n",
            "Epoch 27/60\n",
            "25/25 - 0s - loss: 0.2868 - accuracy: 0.8888 - val_loss: 0.4887 - val_accuracy: 0.8000\n",
            "Epoch 28/60\n",
            "25/25 - 0s - loss: 0.2837 - accuracy: 0.8938 - val_loss: 0.4923 - val_accuracy: 0.7950\n",
            "Epoch 29/60\n",
            "25/25 - 0s - loss: 0.2728 - accuracy: 0.8913 - val_loss: 0.4998 - val_accuracy: 0.7900\n",
            "Epoch 30/60\n",
            "25/25 - 0s - loss: 0.2683 - accuracy: 0.8925 - val_loss: 0.5061 - val_accuracy: 0.7900\n",
            "Epoch 31/60\n",
            "25/25 - 0s - loss: 0.2602 - accuracy: 0.8938 - val_loss: 0.5093 - val_accuracy: 0.7900\n",
            "Epoch 32/60\n",
            "25/25 - 0s - loss: 0.2590 - accuracy: 0.8875 - val_loss: 0.5164 - val_accuracy: 0.7800\n",
            "Epoch 33/60\n",
            "25/25 - 0s - loss: 0.2572 - accuracy: 0.8963 - val_loss: 0.5186 - val_accuracy: 0.7800\n",
            "Epoch 34/60\n",
            "25/25 - 0s - loss: 0.2511 - accuracy: 0.8900 - val_loss: 0.5255 - val_accuracy: 0.8000\n",
            "Epoch 35/60\n",
            "25/25 - 0s - loss: 0.2480 - accuracy: 0.8988 - val_loss: 0.5289 - val_accuracy: 0.7950\n",
            "Epoch 36/60\n",
            "25/25 - 0s - loss: 0.2431 - accuracy: 0.9038 - val_loss: 0.5337 - val_accuracy: 0.7750\n",
            "Epoch 37/60\n",
            "25/25 - 0s - loss: 0.2372 - accuracy: 0.9050 - val_loss: 0.5420 - val_accuracy: 0.8000\n",
            "Epoch 38/60\n",
            "25/25 - 0s - loss: 0.2403 - accuracy: 0.8975 - val_loss: 0.5421 - val_accuracy: 0.7800\n",
            "Epoch 39/60\n",
            "25/25 - 0s - loss: 0.2338 - accuracy: 0.9025 - val_loss: 0.5593 - val_accuracy: 0.7750\n",
            "Epoch 40/60\n",
            "25/25 - 0s - loss: 0.2327 - accuracy: 0.9000 - val_loss: 0.5529 - val_accuracy: 0.7800\n",
            "Epoch 41/60\n",
            "25/25 - 0s - loss: 0.2277 - accuracy: 0.9013 - val_loss: 0.5605 - val_accuracy: 0.7900\n",
            "Epoch 42/60\n",
            "25/25 - 0s - loss: 0.2286 - accuracy: 0.9000 - val_loss: 0.5700 - val_accuracy: 0.7950\n",
            "Epoch 43/60\n",
            "25/25 - 0s - loss: 0.2248 - accuracy: 0.9038 - val_loss: 0.5705 - val_accuracy: 0.7800\n",
            "Epoch 44/60\n",
            "25/25 - 0s - loss: 0.2225 - accuracy: 0.9075 - val_loss: 0.5766 - val_accuracy: 0.7850\n",
            "Epoch 45/60\n",
            "25/25 - 0s - loss: 0.2184 - accuracy: 0.9087 - val_loss: 0.5869 - val_accuracy: 0.7750\n",
            "Epoch 46/60\n",
            "25/25 - 0s - loss: 0.2178 - accuracy: 0.9050 - val_loss: 0.5843 - val_accuracy: 0.7900\n",
            "Epoch 47/60\n",
            "25/25 - 0s - loss: 0.2173 - accuracy: 0.9062 - val_loss: 0.5981 - val_accuracy: 0.7750\n",
            "Epoch 48/60\n",
            "25/25 - 0s - loss: 0.2151 - accuracy: 0.9062 - val_loss: 0.5951 - val_accuracy: 0.7900\n",
            "Epoch 49/60\n",
            "25/25 - 0s - loss: 0.2139 - accuracy: 0.9050 - val_loss: 0.6012 - val_accuracy: 0.7750\n",
            "Epoch 50/60\n",
            "25/25 - 0s - loss: 0.2122 - accuracy: 0.9112 - val_loss: 0.6138 - val_accuracy: 0.8000\n",
            "Epoch 51/60\n",
            "25/25 - 0s - loss: 0.2121 - accuracy: 0.9162 - val_loss: 0.6094 - val_accuracy: 0.7700\n",
            "Epoch 52/60\n",
            "25/25 - 0s - loss: 0.2083 - accuracy: 0.9150 - val_loss: 0.6171 - val_accuracy: 0.7650\n",
            "Epoch 53/60\n",
            "25/25 - 0s - loss: 0.2053 - accuracy: 0.9187 - val_loss: 0.6240 - val_accuracy: 0.7900\n",
            "Epoch 54/60\n",
            "25/25 - 0s - loss: 0.2076 - accuracy: 0.9200 - val_loss: 0.6275 - val_accuracy: 0.7750\n",
            "Epoch 55/60\n",
            "25/25 - 0s - loss: 0.2035 - accuracy: 0.9237 - val_loss: 0.6332 - val_accuracy: 0.7850\n",
            "Epoch 56/60\n",
            "25/25 - 0s - loss: 0.2061 - accuracy: 0.9162 - val_loss: 0.6341 - val_accuracy: 0.7750\n",
            "Epoch 57/60\n",
            "25/25 - 0s - loss: 0.2028 - accuracy: 0.9162 - val_loss: 0.6400 - val_accuracy: 0.7700\n",
            "Epoch 58/60\n",
            "25/25 - 0s - loss: 0.2021 - accuracy: 0.9187 - val_loss: 0.6421 - val_accuracy: 0.7750\n",
            "Epoch 59/60\n",
            "25/25 - 0s - loss: 0.2027 - accuracy: 0.9150 - val_loss: 0.6480 - val_accuracy: 0.7700\n",
            "Epoch 60/60\n",
            "25/25 - 0s - loss: 0.2004 - accuracy: 0.9212 - val_loss: 0.6517 - val_accuracy: 0.7900\n"
          ],
          "name": "stdout"
        }
      ]
    },
    {
      "cell_type": "code",
      "metadata": {
        "id": "j1YsocWKM6Nz"
      },
      "source": [
        ""
      ],
      "execution_count": null,
      "outputs": []
    }
  ]
}