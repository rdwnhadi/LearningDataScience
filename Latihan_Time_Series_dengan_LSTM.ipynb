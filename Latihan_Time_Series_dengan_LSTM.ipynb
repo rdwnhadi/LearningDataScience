{
  "nbformat": 4,
  "nbformat_minor": 0,
  "metadata": {
    "colab": {
      "name": "Latihan Time Series dengan LSTM",
      "provenance": [],
      "authorship_tag": "ABX9TyO93cybwyHuhqlTaeqCf2M/",
      "include_colab_link": true
    },
    "kernelspec": {
      "name": "python3",
      "display_name": "Python 3"
    },
    "language_info": {
      "name": "python"
    }
  },
  "cells": [
    {
      "cell_type": "markdown",
      "metadata": {
        "id": "view-in-github",
        "colab_type": "text"
      },
      "source": [
        "<a href=\"https://colab.research.google.com/github/rdwnhadi/LearningDataScience/blob/main/Latihan_Time_Series_dengan_LSTM.ipynb\" target=\"_parent\"><img src=\"https://colab.research.google.com/assets/colab-badge.svg\" alt=\"Open In Colab\"/></a>"
      ]
    },
    {
      "cell_type": "code",
      "metadata": {
        "id": "_fUIn2u8hj1Y"
      },
      "source": [
        "import numpy as np\n",
        "import pandas as pd\n",
        "from keras.layers import Dense, LSTM\n",
        "import matplotlib.pyplot as plt\n",
        "import tensorflow as tf"
      ],
      "execution_count": 16,
      "outputs": []
    },
    {
      "cell_type": "code",
      "metadata": {
        "colab": {
          "base_uri": "https://localhost:8080/",
          "height": 202
        },
        "id": "uc1ZmgYxiHEW",
        "outputId": "ac2e85d8-c3e6-41c3-e2b9-56d2832dca4b"
      },
      "source": [
        "data_train = pd.read_csv('1.csv')\n",
        "data_train.head()"
      ],
      "execution_count": 20,
      "outputs": [
        {
          "output_type": "execute_result",
          "data": {
            "text/html": [
              "<div>\n",
              "<style scoped>\n",
              "    .dataframe tbody tr th:only-of-type {\n",
              "        vertical-align: middle;\n",
              "    }\n",
              "\n",
              "    .dataframe tbody tr th {\n",
              "        vertical-align: top;\n",
              "    }\n",
              "\n",
              "    .dataframe thead th {\n",
              "        text-align: right;\n",
              "    }\n",
              "</style>\n",
              "<table border=\"1\" class=\"dataframe\">\n",
              "  <thead>\n",
              "    <tr style=\"text-align: right;\">\n",
              "      <th></th>\n",
              "      <th>date</th>\n",
              "      <th>meantemp</th>\n",
              "      <th>humidity</th>\n",
              "      <th>wind_speed</th>\n",
              "      <th>meanpressure</th>\n",
              "    </tr>\n",
              "  </thead>\n",
              "  <tbody>\n",
              "    <tr>\n",
              "      <th>0</th>\n",
              "      <td>2017-01-01</td>\n",
              "      <td>15.913043</td>\n",
              "      <td>85.869565</td>\n",
              "      <td>2.743478</td>\n",
              "      <td>59.000000</td>\n",
              "    </tr>\n",
              "    <tr>\n",
              "      <th>1</th>\n",
              "      <td>2017-01-02</td>\n",
              "      <td>18.500000</td>\n",
              "      <td>77.222222</td>\n",
              "      <td>2.894444</td>\n",
              "      <td>1018.277778</td>\n",
              "    </tr>\n",
              "    <tr>\n",
              "      <th>2</th>\n",
              "      <td>2017-01-03</td>\n",
              "      <td>17.111111</td>\n",
              "      <td>81.888889</td>\n",
              "      <td>4.016667</td>\n",
              "      <td>1018.333333</td>\n",
              "    </tr>\n",
              "    <tr>\n",
              "      <th>3</th>\n",
              "      <td>2017-01-04</td>\n",
              "      <td>18.700000</td>\n",
              "      <td>70.050000</td>\n",
              "      <td>4.545000</td>\n",
              "      <td>1015.700000</td>\n",
              "    </tr>\n",
              "    <tr>\n",
              "      <th>4</th>\n",
              "      <td>2017-01-05</td>\n",
              "      <td>18.388889</td>\n",
              "      <td>74.944444</td>\n",
              "      <td>3.300000</td>\n",
              "      <td>1014.333333</td>\n",
              "    </tr>\n",
              "  </tbody>\n",
              "</table>\n",
              "</div>"
            ],
            "text/plain": [
              "         date   meantemp   humidity  wind_speed  meanpressure\n",
              "0  2017-01-01  15.913043  85.869565    2.743478     59.000000\n",
              "1  2017-01-02  18.500000  77.222222    2.894444   1018.277778\n",
              "2  2017-01-03  17.111111  81.888889    4.016667   1018.333333\n",
              "3  2017-01-04  18.700000  70.050000    4.545000   1015.700000\n",
              "4  2017-01-05  18.388889  74.944444    3.300000   1014.333333"
            ]
          },
          "metadata": {
            "tags": []
          },
          "execution_count": 20
        }
      ]
    },
    {
      "cell_type": "code",
      "metadata": {
        "colab": {
          "base_uri": "https://localhost:8080/"
        },
        "id": "VlRm1O3FkBvC",
        "outputId": "b63bfefd-8ff2-4df3-a22e-185eb8d4efe9"
      },
      "source": [
        "data_train.isnull().sum()"
      ],
      "execution_count": 21,
      "outputs": [
        {
          "output_type": "execute_result",
          "data": {
            "text/plain": [
              "date            0\n",
              "meantemp        0\n",
              "humidity        0\n",
              "wind_speed      0\n",
              "meanpressure    0\n",
              "dtype: int64"
            ]
          },
          "metadata": {
            "tags": []
          },
          "execution_count": 21
        }
      ]
    },
    {
      "cell_type": "code",
      "metadata": {
        "colab": {
          "base_uri": "https://localhost:8080/",
          "height": 253
        },
        "id": "Tkw11HV2kFWb",
        "outputId": "be238b3b-2bad-4a75-ef7a-e2634b623598"
      },
      "source": [
        "dates = data_train['date'].values\n",
        "temp  = data_train['meantemp'].values\n",
        " \n",
        " \n",
        "plt.figure(figsize=(15,5))\n",
        "plt.plot(dates, temp)\n",
        "plt.title('Temperature average',\n",
        "          fontsize=20);"
      ],
      "execution_count": 22,
      "outputs": [
        {
          "output_type": "display_data",
          "data": {
            "image/png": "[encoded data removed]",
            "text/plain": [
              "<Figure size 1080x360 with 1 Axes>"
            ]
          },
          "metadata": {
            "tags": [],
            "needs_background": "light"
          }
        }
      ]
    },
    {
      "cell_type": "code",
      "metadata": {
        "id": "c6jkuo2vkLhS"
      },
      "source": [
        "def windowed_dataset(series, window_size, batch_size, shuffle_buffer):\n",
        "    series = tf.expand_dims(series, axis=-1)\n",
        "    ds = tf.data.Dataset.from_tensor_slices(series)\n",
        "    ds = ds.window(window_size + 1, shift=1, drop_remainder=True)\n",
        "    ds = ds.flat_map(lambda w: w.batch(window_size + 1))\n",
        "    ds = ds.shuffle(shuffle_buffer)\n",
        "    ds = ds.map(lambda w: (w[:-1], w[-1:]))\n",
        "    return ds.batch(batch_size).prefetch(1)"
      ],
      "execution_count": 23,
      "outputs": []
    },
    {
      "cell_type": "code",
      "metadata": {
        "id": "I8R_B4_MkWNk"
      },
      "source": [
        "train_set = windowed_dataset(temp, window_size=60, batch_size=100, shuffle_buffer=1000)\n",
        "model = tf.keras.models.Sequential([\n",
        "  tf.keras.layers.LSTM(60, return_sequences=True),\n",
        "  tf.keras.layers.LSTM(60),\n",
        "  tf.keras.layers.Dense(30, activation=\"relu\"),\n",
        "  tf.keras.layers.Dense(10, activation=\"relu\"),\n",
        "  tf.keras.layers.Dense(1),\n",
        "])"
      ],
      "execution_count": 25,
      "outputs": []
    },
    {
      "cell_type": "code",
      "metadata": {
        "colab": {
          "base_uri": "https://localhost:8080/"
        },
        "id": "uopOV8TKklpR",
        "outputId": "09eb1eda-6123-45db-ce99-647365d1ffb6"
      },
      "source": [
        "optimizer = tf.keras.optimizers.SGD(lr=1.0000e-04, momentum=0.9)\n",
        "model.compile(loss=tf.keras.losses.Huber(),\n",
        "              optimizer=optimizer,\n",
        "              metrics=[\"mae\"])\n",
        "history = model.fit(train_set,epochs=100)"
      ],
      "execution_count": 26,
      "outputs": [
        {
          "output_type": "stream",
          "text": [
            "/usr/local/lib/python3.7/dist-packages/tensorflow/python/keras/optimizer_v2/optimizer_v2.py:375: UserWarning: The `lr` argument is deprecated, use `learning_rate` instead.\n",
            "  \"The `lr` argument is deprecated, use `learning_rate` instead.\")\n"
          ],
          "name": "stderr"
        },
        {
          "output_type": "stream",
          "text": [
            "Epoch 1/100\n",
            "1/1 [==============================] - 5s 5s/step - loss: 26.4848 - mae: 26.9848\n",
            "Epoch 2/100\n",
            "1/1 [==============================] - 0s 88ms/step - loss: 26.4356 - mae: 26.9356\n",
            "Epoch 3/100\n",
            "1/1 [==============================] - 0s 97ms/step - loss: 26.3993 - mae: 26.8993\n",
            "Epoch 4/100\n",
            "1/1 [==============================] - 0s 112ms/step - loss: 26.3983 - mae: 26.8983\n",
            "Epoch 5/100\n",
            "1/1 [==============================] - 0s 92ms/step - loss: 26.3972 - mae: 26.8972\n",
            "Epoch 6/100\n",
            "1/1 [==============================] - 0s 100ms/step - loss: 26.3955 - mae: 26.8955\n",
            "Epoch 7/100\n",
            "1/1 [==============================] - 0s 97ms/step - loss: 26.3933 - mae: 26.8933\n",
            "Epoch 8/100\n",
            "1/1 [==============================] - 0s 101ms/step - loss: 26.3905 - mae: 26.8905\n",
            "Epoch 9/100\n",
            "1/1 [==============================] - 0s 96ms/step - loss: 26.3874 - mae: 26.8874\n",
            "Epoch 10/100\n",
            "1/1 [==============================] - 0s 92ms/step - loss: 26.3840 - mae: 26.8840\n",
            "Epoch 11/100\n",
            "1/1 [==============================] - 0s 92ms/step - loss: 26.3803 - mae: 26.8803\n",
            "Epoch 12/100\n",
            "1/1 [==============================] - 0s 110ms/step - loss: 26.3765 - mae: 26.8765\n",
            "Epoch 13/100\n",
            "1/1 [==============================] - 0s 93ms/step - loss: 26.3726 - mae: 26.8726\n",
            "Epoch 14/100\n",
            "1/1 [==============================] - 0s 97ms/step - loss: 26.3687 - mae: 26.8687\n",
            "Epoch 15/100\n",
            "1/1 [==============================] - 0s 92ms/step - loss: 26.3645 - mae: 26.8645\n",
            "Epoch 16/100\n",
            "1/1 [==============================] - 0s 99ms/step - loss: 26.3603 - mae: 26.8603\n",
            "Epoch 17/100\n",
            "1/1 [==============================] - 0s 90ms/step - loss: 26.3561 - mae: 26.8561\n",
            "Epoch 18/100\n",
            "1/1 [==============================] - 0s 100ms/step - loss: 26.3521 - mae: 26.8521\n",
            "Epoch 19/100\n",
            "1/1 [==============================] - 0s 93ms/step - loss: 26.3485 - mae: 26.8485\n",
            "Epoch 20/100\n",
            "1/1 [==============================] - 0s 95ms/step - loss: 26.3449 - mae: 26.8449\n",
            "Epoch 21/100\n",
            "1/1 [==============================] - 0s 91ms/step - loss: 26.3413 - mae: 26.8413\n",
            "Epoch 22/100\n",
            "1/1 [==============================] - 0s 98ms/step - loss: 26.3376 - mae: 26.8376\n",
            "Epoch 23/100\n",
            "1/1 [==============================] - 0s 93ms/step - loss: 26.3338 - mae: 26.8338\n",
            "Epoch 24/100\n",
            "1/1 [==============================] - 0s 98ms/step - loss: 26.3300 - mae: 26.8300\n",
            "Epoch 25/100\n",
            "1/1 [==============================] - 0s 89ms/step - loss: 26.3261 - mae: 26.8261\n",
            "Epoch 26/100\n",
            "1/1 [==============================] - 0s 100ms/step - loss: 26.3222 - mae: 26.8222\n",
            "Epoch 27/100\n",
            "1/1 [==============================] - 0s 103ms/step - loss: 26.3182 - mae: 26.8182\n",
            "Epoch 28/100\n",
            "1/1 [==============================] - 0s 92ms/step - loss: 26.3141 - mae: 26.8141\n",
            "Epoch 29/100\n",
            "1/1 [==============================] - 0s 98ms/step - loss: 26.3100 - mae: 26.8100\n",
            "Epoch 30/100\n",
            "1/1 [==============================] - 0s 107ms/step - loss: 26.3059 - mae: 26.8059\n",
            "Epoch 31/100\n",
            "1/1 [==============================] - 0s 96ms/step - loss: 26.3017 - mae: 26.8017\n",
            "Epoch 32/100\n",
            "1/1 [==============================] - 0s 94ms/step - loss: 26.2974 - mae: 26.7974\n",
            "Epoch 33/100\n",
            "1/1 [==============================] - 0s 98ms/step - loss: 26.2933 - mae: 26.7933\n",
            "Epoch 34/100\n",
            "1/1 [==============================] - 0s 95ms/step - loss: 26.2892 - mae: 26.7892\n",
            "Epoch 35/100\n",
            "1/1 [==============================] - 0s 100ms/step - loss: 26.2852 - mae: 26.7852\n",
            "Epoch 36/100\n",
            "1/1 [==============================] - 0s 95ms/step - loss: 26.2810 - mae: 26.7810\n",
            "Epoch 37/100\n",
            "1/1 [==============================] - 0s 93ms/step - loss: 26.2769 - mae: 26.7769\n",
            "Epoch 38/100\n",
            "1/1 [==============================] - 0s 99ms/step - loss: 26.2727 - mae: 26.7727\n",
            "Epoch 39/100\n",
            "1/1 [==============================] - 0s 90ms/step - loss: 26.2685 - mae: 26.7685\n",
            "Epoch 40/100\n",
            "1/1 [==============================] - 0s 100ms/step - loss: 26.2643 - mae: 26.7643\n",
            "Epoch 41/100\n",
            "1/1 [==============================] - 0s 96ms/step - loss: 26.2600 - mae: 26.7600\n",
            "Epoch 42/100\n",
            "1/1 [==============================] - 0s 96ms/step - loss: 26.2557 - mae: 26.7557\n",
            "Epoch 43/100\n",
            "1/1 [==============================] - 0s 96ms/step - loss: 26.2512 - mae: 26.7512\n",
            "Epoch 44/100\n",
            "1/1 [==============================] - 0s 99ms/step - loss: 26.2468 - mae: 26.7468\n",
            "Epoch 45/100\n",
            "1/1 [==============================] - 0s 93ms/step - loss: 26.2422 - mae: 26.7422\n",
            "Epoch 46/100\n",
            "1/1 [==============================] - 0s 87ms/step - loss: 26.2376 - mae: 26.7376\n",
            "Epoch 47/100\n",
            "1/1 [==============================] - 0s 89ms/step - loss: 26.2330 - mae: 26.7330\n",
            "Epoch 48/100\n",
            "1/1 [==============================] - 0s 96ms/step - loss: 26.2283 - mae: 26.7283\n",
            "Epoch 49/100\n",
            "1/1 [==============================] - 0s 89ms/step - loss: 26.2236 - mae: 26.7236\n",
            "Epoch 50/100\n",
            "1/1 [==============================] - 0s 99ms/step - loss: 26.2189 - mae: 26.7189\n",
            "Epoch 51/100\n",
            "1/1 [==============================] - 0s 91ms/step - loss: 26.2141 - mae: 26.7141\n",
            "Epoch 52/100\n",
            "1/1 [==============================] - 0s 93ms/step - loss: 26.2093 - mae: 26.7093\n",
            "Epoch 53/100\n",
            "1/1 [==============================] - 0s 97ms/step - loss: 26.2045 - mae: 26.7045\n",
            "Epoch 54/100\n",
            "1/1 [==============================] - 0s 90ms/step - loss: 26.1996 - mae: 26.6996\n",
            "Epoch 55/100\n",
            "1/1 [==============================] - 0s 100ms/step - loss: 26.1948 - mae: 26.6948\n",
            "Epoch 56/100\n",
            "1/1 [==============================] - 0s 93ms/step - loss: 26.1902 - mae: 26.6902\n",
            "Epoch 57/100\n",
            "1/1 [==============================] - 0s 97ms/step - loss: 26.1857 - mae: 26.6857\n",
            "Epoch 58/100\n",
            "1/1 [==============================] - 0s 102ms/step - loss: 26.1814 - mae: 26.6814\n",
            "Epoch 59/100\n",
            "1/1 [==============================] - 0s 99ms/step - loss: 26.1773 - mae: 26.6773\n",
            "Epoch 60/100\n",
            "1/1 [==============================] - 0s 92ms/step - loss: 26.1735 - mae: 26.6735\n",
            "Epoch 61/100\n",
            "1/1 [==============================] - 0s 101ms/step - loss: 26.1700 - mae: 26.6700\n",
            "Epoch 62/100\n",
            "1/1 [==============================] - 0s 90ms/step - loss: 26.1664 - mae: 26.6664\n",
            "Epoch 63/100\n",
            "1/1 [==============================] - 0s 91ms/step - loss: 26.1628 - mae: 26.6628\n",
            "Epoch 64/100\n",
            "1/1 [==============================] - 0s 91ms/step - loss: 26.1590 - mae: 26.6590\n",
            "Epoch 65/100\n",
            "1/1 [==============================] - 0s 91ms/step - loss: 26.1553 - mae: 26.6553\n",
            "Epoch 66/100\n",
            "1/1 [==============================] - 0s 105ms/step - loss: 26.1514 - mae: 26.6514\n",
            "Epoch 67/100\n",
            "1/1 [==============================] - 0s 91ms/step - loss: 26.1474 - mae: 26.6474\n",
            "Epoch 68/100\n",
            "1/1 [==============================] - 0s 95ms/step - loss: 26.1432 - mae: 26.6432\n",
            "Epoch 69/100\n",
            "1/1 [==============================] - 0s 92ms/step - loss: 26.1389 - mae: 26.6389\n",
            "Epoch 70/100\n",
            "1/1 [==============================] - 0s 103ms/step - loss: 26.1346 - mae: 26.6346\n",
            "Epoch 71/100\n",
            "1/1 [==============================] - 0s 91ms/step - loss: 26.1303 - mae: 26.6303\n",
            "Epoch 72/100\n",
            "1/1 [==============================] - 0s 94ms/step - loss: 26.1259 - mae: 26.6259\n",
            "Epoch 73/100\n",
            "1/1 [==============================] - 0s 101ms/step - loss: 26.1217 - mae: 26.6217\n",
            "Epoch 74/100\n",
            "1/1 [==============================] - 0s 107ms/step - loss: 26.1175 - mae: 26.6175\n",
            "Epoch 75/100\n",
            "1/1 [==============================] - 0s 95ms/step - loss: 26.1133 - mae: 26.6133\n",
            "Epoch 76/100\n",
            "1/1 [==============================] - 0s 90ms/step - loss: 26.1092 - mae: 26.6092\n",
            "Epoch 77/100\n",
            "1/1 [==============================] - 0s 94ms/step - loss: 26.1052 - mae: 26.6052\n",
            "Epoch 78/100\n",
            "1/1 [==============================] - 0s 92ms/step - loss: 26.1012 - mae: 26.6012\n",
            "Epoch 79/100\n",
            "1/1 [==============================] - 0s 92ms/step - loss: 26.0972 - mae: 26.5972\n",
            "Epoch 80/100\n",
            "1/1 [==============================] - 0s 107ms/step - loss: 26.0931 - mae: 26.5931\n",
            "Epoch 81/100\n",
            "1/1 [==============================] - 0s 96ms/step - loss: 26.0890 - mae: 26.5890\n",
            "Epoch 82/100\n",
            "1/1 [==============================] - 0s 97ms/step - loss: 26.0848 - mae: 26.5848\n",
            "Epoch 83/100\n",
            "1/1 [==============================] - 0s 91ms/step - loss: 26.0806 - mae: 26.5806\n",
            "Epoch 84/100\n",
            "1/1 [==============================] - 0s 99ms/step - loss: 26.0764 - mae: 26.5764\n",
            "Epoch 85/100\n",
            "1/1 [==============================] - 0s 98ms/step - loss: 26.0721 - mae: 26.5721\n",
            "Epoch 86/100\n",
            "1/1 [==============================] - 0s 96ms/step - loss: 26.0678 - mae: 26.5678\n",
            "Epoch 87/100\n",
            "1/1 [==============================] - 0s 92ms/step - loss: 26.0635 - mae: 26.5635\n",
            "Epoch 88/100\n",
            "1/1 [==============================] - 0s 92ms/step - loss: 26.0592 - mae: 26.5592\n",
            "Epoch 89/100\n",
            "1/1 [==============================] - 0s 102ms/step - loss: 26.0549 - mae: 26.5549\n",
            "Epoch 90/100\n",
            "1/1 [==============================] - 0s 94ms/step - loss: 26.0506 - mae: 26.5506\n",
            "Epoch 91/100\n",
            "1/1 [==============================] - 0s 97ms/step - loss: 26.0463 - mae: 26.5463\n",
            "Epoch 92/100\n",
            "1/1 [==============================] - 0s 87ms/step - loss: 26.0420 - mae: 26.5420\n",
            "Epoch 93/100\n",
            "1/1 [==============================] - 0s 96ms/step - loss: 26.0376 - mae: 26.5376\n",
            "Epoch 94/100\n",
            "1/1 [==============================] - 0s 98ms/step - loss: 26.0333 - mae: 26.5333\n",
            "Epoch 95/100\n",
            "1/1 [==============================] - 0s 96ms/step - loss: 26.0288 - mae: 26.5288\n",
            "Epoch 96/100\n",
            "1/1 [==============================] - 0s 92ms/step - loss: 26.0244 - mae: 26.5244\n",
            "Epoch 97/100\n",
            "1/1 [==============================] - 0s 94ms/step - loss: 26.0200 - mae: 26.5200\n",
            "Epoch 98/100\n",
            "1/1 [==============================] - 0s 91ms/step - loss: 26.0155 - mae: 26.5155\n",
            "Epoch 99/100\n",
            "1/1 [==============================] - 0s 89ms/step - loss: 26.0111 - mae: 26.5111\n",
            "Epoch 100/100\n",
            "1/1 [==============================] - 0s 92ms/step - loss: 26.0066 - mae: 26.5066\n"
          ],
          "name": "stdout"
        }
      ]
    }
  ]
}