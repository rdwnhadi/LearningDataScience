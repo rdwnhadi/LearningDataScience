{
  "nbformat": 4,
  "nbformat_minor": 0,
  "metadata": {
    "colab": {
      "name": "TUGAS TIME SERIES - SUNSPOT",
      "provenance": [],
      "authorship_tag": "ABX9TyOQ02UkOqhM5JtaPpnRReFa",
      "include_colab_link": true
    },
    "kernelspec": {
      "name": "python3",
      "display_name": "Python 3"
    },
    "language_info": {
      "name": "python"
    }
  },
  "cells": [
    {
      "cell_type": "markdown",
      "metadata": {
        "id": "view-in-github",
        "colab_type": "text"
      },
      "source": [
        "<a href=\"https://colab.research.google.com/github/rdwnhadi/LearningDataScience/blob/main/TUGAS_TIME_SERIES_SUNSPOT.ipynb\" target=\"_parent\"><img src=\"https://colab.research.google.com/assets/colab-badge.svg\" alt=\"Open In Colab\"/></a>"
      ]
    },
    {
      "cell_type": "markdown",
      "metadata": {
        "id": "M16T9XDAtG6D"
      },
      "source": [
        "Nama : Ridwan Hadi Kusuma\n",
        "Tugas 2 = Time Series\n"
      ]
    },
    {
      "cell_type": "code",
      "metadata": {
        "id": "1_-3C29W9DFZ"
      },
      "source": [
        "#import library yang dibutuhkan\n",
        "import numpy as np\n",
        "import pandas as pd\n",
        "from keras.layers import Dense, LSTM\n",
        "import matplotlib.pyplot as plt\n",
        "import tensorflow as tf"
      ],
      "execution_count": 3,
      "outputs": []
    },
    {
      "cell_type": "code",
      "metadata": {
        "colab": {
          "base_uri": "https://localhost:8080/",
          "height": 206
        },
        "id": "7MulzP8I9ddW",
        "outputId": "f0cbe08c-4f0e-4901-d9be-238184c0dfec"
      },
      "source": [
        "#upload dataset dan cek tail\n",
        "df = pd.read_csv('Sunspots.csv', parse_dates=[0])\n",
        "df.tail()"
      ],
      "execution_count": 4,
      "outputs": [
        {
          "output_type": "execute_result",
          "data": {
            "text/html": [
              "<div>\n",
              "<style scoped>\n",
              "    .dataframe tbody tr th:only-of-type {\n",
              "        vertical-align: middle;\n",
              "    }\n",
              "\n",
              "    .dataframe tbody tr th {\n",
              "        vertical-align: top;\n",
              "    }\n",
              "\n",
              "    .dataframe thead th {\n",
              "        text-align: right;\n",
              "    }\n",
              "</style>\n",
              "<table border=\"1\" class=\"dataframe\">\n",
              "  <thead>\n",
              "    <tr style=\"text-align: right;\">\n",
              "      <th></th>\n",
              "      <th>Unnamed: 0</th>\n",
              "      <th>Date</th>\n",
              "      <th>Monthly Mean Total Sunspot Number</th>\n",
              "    </tr>\n",
              "  </thead>\n",
              "  <tbody>\n",
              "    <tr>\n",
              "      <th>3260</th>\n",
              "      <td>3260</td>\n",
              "      <td>2020-09-30</td>\n",
              "      <td>0.6</td>\n",
              "    </tr>\n",
              "    <tr>\n",
              "      <th>3261</th>\n",
              "      <td>3261</td>\n",
              "      <td>2020-10-31</td>\n",
              "      <td>14.4</td>\n",
              "    </tr>\n",
              "    <tr>\n",
              "      <th>3262</th>\n",
              "      <td>3262</td>\n",
              "      <td>2020-11-30</td>\n",
              "      <td>34.0</td>\n",
              "    </tr>\n",
              "    <tr>\n",
              "      <th>3263</th>\n",
              "      <td>3263</td>\n",
              "      <td>2020-12-31</td>\n",
              "      <td>21.8</td>\n",
              "    </tr>\n",
              "    <tr>\n",
              "      <th>3264</th>\n",
              "      <td>3264</td>\n",
              "      <td>2021-01-31</td>\n",
              "      <td>10.4</td>\n",
              "    </tr>\n",
              "  </tbody>\n",
              "</table>\n",
              "</div>"
            ],
            "text/plain": [
              "     Unnamed: 0        Date  Monthly Mean Total Sunspot Number\n",
              "3260       3260  2020-09-30                                0.6\n",
              "3261       3261  2020-10-31                               14.4\n",
              "3262       3262  2020-11-30                               34.0\n",
              "3263       3263  2020-12-31                               21.8\n",
              "3264       3264  2021-01-31                               10.4"
            ]
          },
          "metadata": {
            "tags": []
          },
          "execution_count": 4
        }
      ]
    },
    {
      "cell_type": "code",
      "metadata": {
        "colab": {
          "base_uri": "https://localhost:8080/",
          "height": 206
        },
        "id": "Rng048vF9loE",
        "outputId": "3930bb1d-f604-4664-ce79-d347b588c6bb"
      },
      "source": [
        "#cek head\n",
        "df.head()"
      ],
      "execution_count": 5,
      "outputs": [
        {
          "output_type": "execute_result",
          "data": {
            "text/html": [
              "<div>\n",
              "<style scoped>\n",
              "    .dataframe tbody tr th:only-of-type {\n",
              "        vertical-align: middle;\n",
              "    }\n",
              "\n",
              "    .dataframe tbody tr th {\n",
              "        vertical-align: top;\n",
              "    }\n",
              "\n",
              "    .dataframe thead th {\n",
              "        text-align: right;\n",
              "    }\n",
              "</style>\n",
              "<table border=\"1\" class=\"dataframe\">\n",
              "  <thead>\n",
              "    <tr style=\"text-align: right;\">\n",
              "      <th></th>\n",
              "      <th>Unnamed: 0</th>\n",
              "      <th>Date</th>\n",
              "      <th>Monthly Mean Total Sunspot Number</th>\n",
              "    </tr>\n",
              "  </thead>\n",
              "  <tbody>\n",
              "    <tr>\n",
              "      <th>0</th>\n",
              "      <td>0</td>\n",
              "      <td>1749-01-31</td>\n",
              "      <td>96.7</td>\n",
              "    </tr>\n",
              "    <tr>\n",
              "      <th>1</th>\n",
              "      <td>1</td>\n",
              "      <td>1749-02-28</td>\n",
              "      <td>104.3</td>\n",
              "    </tr>\n",
              "    <tr>\n",
              "      <th>2</th>\n",
              "      <td>2</td>\n",
              "      <td>1749-03-31</td>\n",
              "      <td>116.7</td>\n",
              "    </tr>\n",
              "    <tr>\n",
              "      <th>3</th>\n",
              "      <td>3</td>\n",
              "      <td>1749-04-30</td>\n",
              "      <td>92.8</td>\n",
              "    </tr>\n",
              "    <tr>\n",
              "      <th>4</th>\n",
              "      <td>4</td>\n",
              "      <td>1749-05-31</td>\n",
              "      <td>141.7</td>\n",
              "    </tr>\n",
              "  </tbody>\n",
              "</table>\n",
              "</div>"
            ],
            "text/plain": [
              "  Unnamed: 0        Date  Monthly Mean Total Sunspot Number\n",
              "0          0  1749-01-31                               96.7\n",
              "1          1  1749-02-28                              104.3\n",
              "2          2  1749-03-31                              116.7\n",
              "3          3  1749-04-30                               92.8\n",
              "4          4  1749-05-31                              141.7"
            ]
          },
          "metadata": {
            "tags": []
          },
          "execution_count": 5
        }
      ]
    },
    {
      "cell_type": "code",
      "metadata": {
        "colab": {
          "base_uri": "https://localhost:8080/"
        },
        "id": "lvNyMZM99rSy",
        "outputId": "c9a9adb2-9bbf-4b2a-850c-12995c8d1fca"
      },
      "source": [
        "#cek nilai 0\n",
        "df.isnull().sum()"
      ],
      "execution_count": 6,
      "outputs": [
        {
          "output_type": "execute_result",
          "data": {
            "text/plain": [
              "Unnamed: 0                           0\n",
              "Date                                 0\n",
              "Monthly Mean Total Sunspot Number    0\n",
              "dtype: int64"
            ]
          },
          "metadata": {
            "tags": []
          },
          "execution_count": 6
        }
      ]
    },
    {
      "cell_type": "code",
      "metadata": {
        "colab": {
          "base_uri": "https://localhost:8080/",
          "height": 300
        },
        "id": "mmVJn8_q9uXE",
        "outputId": "c0d65a9d-95bd-49a4-b249-b7c29a15c357"
      },
      "source": [
        "#cek summary dataset\n",
        "df.describe()"
      ],
      "execution_count": 7,
      "outputs": [
        {
          "output_type": "execute_result",
          "data": {
            "text/html": [
              "<div>\n",
              "<style scoped>\n",
              "    .dataframe tbody tr th:only-of-type {\n",
              "        vertical-align: middle;\n",
              "    }\n",
              "\n",
              "    .dataframe tbody tr th {\n",
              "        vertical-align: top;\n",
              "    }\n",
              "\n",
              "    .dataframe thead th {\n",
              "        text-align: right;\n",
              "    }\n",
              "</style>\n",
              "<table border=\"1\" class=\"dataframe\">\n",
              "  <thead>\n",
              "    <tr style=\"text-align: right;\">\n",
              "      <th></th>\n",
              "      <th>Monthly Mean Total Sunspot Number</th>\n",
              "    </tr>\n",
              "  </thead>\n",
              "  <tbody>\n",
              "    <tr>\n",
              "      <th>count</th>\n",
              "      <td>3265.000000</td>\n",
              "    </tr>\n",
              "    <tr>\n",
              "      <th>mean</th>\n",
              "      <td>81.778775</td>\n",
              "    </tr>\n",
              "    <tr>\n",
              "      <th>std</th>\n",
              "      <td>67.889277</td>\n",
              "    </tr>\n",
              "    <tr>\n",
              "      <th>min</th>\n",
              "      <td>0.000000</td>\n",
              "    </tr>\n",
              "    <tr>\n",
              "      <th>25%</th>\n",
              "      <td>23.900000</td>\n",
              "    </tr>\n",
              "    <tr>\n",
              "      <th>50%</th>\n",
              "      <td>67.200000</td>\n",
              "    </tr>\n",
              "    <tr>\n",
              "      <th>75%</th>\n",
              "      <td>122.500000</td>\n",
              "    </tr>\n",
              "    <tr>\n",
              "      <th>max</th>\n",
              "      <td>398.200000</td>\n",
              "    </tr>\n",
              "  </tbody>\n",
              "</table>\n",
              "</div>"
            ],
            "text/plain": [
              "       Monthly Mean Total Sunspot Number\n",
              "count                        3265.000000\n",
              "mean                           81.778775\n",
              "std                            67.889277\n",
              "min                             0.000000\n",
              "25%                            23.900000\n",
              "50%                            67.200000\n",
              "75%                           122.500000\n",
              "max                           398.200000"
            ]
          },
          "metadata": {
            "tags": []
          },
          "execution_count": 7
        }
      ]
    },
    {
      "cell_type": "code",
      "metadata": {
        "id": "1iQ-earM9yL0"
      },
      "source": [
        "#drop data yang tidak diperlukan\n",
        "df.drop('Unnamed: 0', inplace=True, axis=1)"
      ],
      "execution_count": 8,
      "outputs": []
    },
    {
      "cell_type": "code",
      "metadata": {
        "colab": {
          "base_uri": "https://localhost:8080/",
          "height": 424
        },
        "id": "LfMl7pus968G",
        "outputId": "fcf494c7-c7e9-4208-81c7-7d9ff4e3fe45"
      },
      "source": [
        "#cek data sudah didrop\n",
        "df"
      ],
      "execution_count": 157,
      "outputs": [
        {
          "output_type": "execute_result",
          "data": {
            "text/html": [
              "<div>\n",
              "<style scoped>\n",
              "    .dataframe tbody tr th:only-of-type {\n",
              "        vertical-align: middle;\n",
              "    }\n",
              "\n",
              "    .dataframe tbody tr th {\n",
              "        vertical-align: top;\n",
              "    }\n",
              "\n",
              "    .dataframe thead th {\n",
              "        text-align: right;\n",
              "    }\n",
              "</style>\n",
              "<table border=\"1\" class=\"dataframe\">\n",
              "  <thead>\n",
              "    <tr style=\"text-align: right;\">\n",
              "      <th></th>\n",
              "      <th>Date</th>\n",
              "      <th>Monthly Mean Total Sunspot Number</th>\n",
              "    </tr>\n",
              "  </thead>\n",
              "  <tbody>\n",
              "    <tr>\n",
              "      <th>0</th>\n",
              "      <td>1749-01-31</td>\n",
              "      <td>96.7</td>\n",
              "    </tr>\n",
              "    <tr>\n",
              "      <th>1</th>\n",
              "      <td>1749-02-28</td>\n",
              "      <td>104.3</td>\n",
              "    </tr>\n",
              "    <tr>\n",
              "      <th>2</th>\n",
              "      <td>1749-03-31</td>\n",
              "      <td>116.7</td>\n",
              "    </tr>\n",
              "    <tr>\n",
              "      <th>3</th>\n",
              "      <td>1749-04-30</td>\n",
              "      <td>92.8</td>\n",
              "    </tr>\n",
              "    <tr>\n",
              "      <th>4</th>\n",
              "      <td>1749-05-31</td>\n",
              "      <td>141.7</td>\n",
              "    </tr>\n",
              "    <tr>\n",
              "      <th>...</th>\n",
              "      <td>...</td>\n",
              "      <td>...</td>\n",
              "    </tr>\n",
              "    <tr>\n",
              "      <th>3260</th>\n",
              "      <td>2020-09-30</td>\n",
              "      <td>0.6</td>\n",
              "    </tr>\n",
              "    <tr>\n",
              "      <th>3261</th>\n",
              "      <td>2020-10-31</td>\n",
              "      <td>14.4</td>\n",
              "    </tr>\n",
              "    <tr>\n",
              "      <th>3262</th>\n",
              "      <td>2020-11-30</td>\n",
              "      <td>34.0</td>\n",
              "    </tr>\n",
              "    <tr>\n",
              "      <th>3263</th>\n",
              "      <td>2020-12-31</td>\n",
              "      <td>21.8</td>\n",
              "    </tr>\n",
              "    <tr>\n",
              "      <th>3264</th>\n",
              "      <td>2021-01-31</td>\n",
              "      <td>10.4</td>\n",
              "    </tr>\n",
              "  </tbody>\n",
              "</table>\n",
              "<p>3265 rows × 2 columns</p>\n",
              "</div>"
            ],
            "text/plain": [
              "            Date  Monthly Mean Total Sunspot Number\n",
              "0     1749-01-31                               96.7\n",
              "1     1749-02-28                              104.3\n",
              "2     1749-03-31                              116.7\n",
              "3     1749-04-30                               92.8\n",
              "4     1749-05-31                              141.7\n",
              "...          ...                                ...\n",
              "3260  2020-09-30                                0.6\n",
              "3261  2020-10-31                               14.4\n",
              "3262  2020-11-30                               34.0\n",
              "3263  2020-12-31                               21.8\n",
              "3264  2021-01-31                               10.4\n",
              "\n",
              "[3265 rows x 2 columns]"
            ]
          },
          "metadata": {
            "tags": []
          },
          "execution_count": 157
        }
      ]
    },
    {
      "cell_type": "code",
      "metadata": {
        "colab": {
          "base_uri": "https://localhost:8080/",
          "height": 341
        },
        "id": "pCnRgZmt-BQE",
        "outputId": "8acd966c-63f4-4035-bf99-82473411b796"
      },
      "source": [
        "#membuat grafik timeseries\n",
        "dates = df['Date'].values\n",
        "spot  = df['Monthly Mean Total Sunspot Number'].values\n",
        " \n",
        " \n",
        "plt.figure(figsize=(15,5))\n",
        "plt.plot(dates, spot)\n",
        "plt.title('Sunspots Graphs',\n",
        "          fontsize=20);"
      ],
      "execution_count": 10,
      "outputs": [
        {
          "output_type": "display_data",
          "data": {
            "image/png": "[encoded data removed]",
            "text/plain": [
              "<Figure size 1080x360 with 1 Axes>"
            ]
          },
          "metadata": {
            "tags": [],
            "needs_background": "light"
          }
        }
      ]
    },
    {
      "cell_type": "code",
      "metadata": {
        "id": "pDCkNfeC-h87"
      },
      "source": [
        "#train datanya dengan ukuran 0.2\n",
        "from sklearn.model_selection import train_test_split\n",
        "X_train, X_test,y_train, y_test = train_test_split(dates,spot, test_size=0.2, random_state=0, shuffle=False)"
      ],
      "execution_count": 126,
      "outputs": []
    },
    {
      "cell_type": "code",
      "metadata": {
        "colab": {
          "base_uri": "https://localhost:8080/"
        },
        "id": "iTB1SxCHho92",
        "outputId": "5ba678b7-13de-4b7f-80ba-c6c4c8231eda"
      },
      "source": [
        "#cek hasil split\n",
        "print(len(train_data))\n",
        "print(len(test_data))"
      ],
      "execution_count": 127,
      "outputs": [
        {
          "output_type": "stream",
          "text": [
            "2612\n",
            "653\n"
          ],
          "name": "stdout"
        }
      ]
    },
    {
      "cell_type": "code",
      "metadata": {
        "colab": {
          "base_uri": "https://localhost:8080/",
          "height": 424
        },
        "id": "U4qPj59jiIH-",
        "outputId": "711c8dd6-a688-491a-fb01-4996f151041b"
      },
      "source": [
        "train_data"
      ],
      "execution_count": 128,
      "outputs": [
        {
          "output_type": "execute_result",
          "data": {
            "text/html": [
              "<div>\n",
              "<style scoped>\n",
              "    .dataframe tbody tr th:only-of-type {\n",
              "        vertical-align: middle;\n",
              "    }\n",
              "\n",
              "    .dataframe tbody tr th {\n",
              "        vertical-align: top;\n",
              "    }\n",
              "\n",
              "    .dataframe thead th {\n",
              "        text-align: right;\n",
              "    }\n",
              "</style>\n",
              "<table border=\"1\" class=\"dataframe\">\n",
              "  <thead>\n",
              "    <tr style=\"text-align: right;\">\n",
              "      <th></th>\n",
              "      <th>Date</th>\n",
              "      <th>Monthly Mean Total Sunspot Number</th>\n",
              "    </tr>\n",
              "  </thead>\n",
              "  <tbody>\n",
              "    <tr>\n",
              "      <th>0</th>\n",
              "      <td>1749-01-31</td>\n",
              "      <td>96.7</td>\n",
              "    </tr>\n",
              "    <tr>\n",
              "      <th>1</th>\n",
              "      <td>1749-02-28</td>\n",
              "      <td>104.3</td>\n",
              "    </tr>\n",
              "    <tr>\n",
              "      <th>2</th>\n",
              "      <td>1749-03-31</td>\n",
              "      <td>116.7</td>\n",
              "    </tr>\n",
              "    <tr>\n",
              "      <th>3</th>\n",
              "      <td>1749-04-30</td>\n",
              "      <td>92.8</td>\n",
              "    </tr>\n",
              "    <tr>\n",
              "      <th>4</th>\n",
              "      <td>1749-05-31</td>\n",
              "      <td>141.7</td>\n",
              "    </tr>\n",
              "    <tr>\n",
              "      <th>...</th>\n",
              "      <td>...</td>\n",
              "      <td>...</td>\n",
              "    </tr>\n",
              "    <tr>\n",
              "      <th>2607</th>\n",
              "      <td>1966-04-30</td>\n",
              "      <td>69.0</td>\n",
              "    </tr>\n",
              "    <tr>\n",
              "      <th>2608</th>\n",
              "      <td>1966-05-31</td>\n",
              "      <td>64.2</td>\n",
              "    </tr>\n",
              "    <tr>\n",
              "      <th>2609</th>\n",
              "      <td>1966-06-30</td>\n",
              "      <td>67.7</td>\n",
              "    </tr>\n",
              "    <tr>\n",
              "      <th>2610</th>\n",
              "      <td>1966-07-31</td>\n",
              "      <td>80.2</td>\n",
              "    </tr>\n",
              "    <tr>\n",
              "      <th>2611</th>\n",
              "      <td>1966-08-31</td>\n",
              "      <td>72.6</td>\n",
              "    </tr>\n",
              "  </tbody>\n",
              "</table>\n",
              "<p>2612 rows × 2 columns</p>\n",
              "</div>"
            ],
            "text/plain": [
              "            Date  Monthly Mean Total Sunspot Number\n",
              "0     1749-01-31                               96.7\n",
              "1     1749-02-28                              104.3\n",
              "2     1749-03-31                              116.7\n",
              "3     1749-04-30                               92.8\n",
              "4     1749-05-31                              141.7\n",
              "...          ...                                ...\n",
              "2607  1966-04-30                               69.0\n",
              "2608  1966-05-31                               64.2\n",
              "2609  1966-06-30                               67.7\n",
              "2610  1966-07-31                               80.2\n",
              "2611  1966-08-31                               72.6\n",
              "\n",
              "[2612 rows x 2 columns]"
            ]
          },
          "metadata": {
            "tags": []
          },
          "execution_count": 128
        }
      ]
    },
    {
      "cell_type": "code",
      "metadata": {
        "colab": {
          "base_uri": "https://localhost:8080/",
          "height": 424
        },
        "id": "PrSP7bkhiLJu",
        "outputId": "c82291ef-bba2-4b50-f7e2-c8cc091bc5ed"
      },
      "source": [
        "test_data"
      ],
      "execution_count": 129,
      "outputs": [
        {
          "output_type": "execute_result",
          "data": {
            "text/html": [
              "<div>\n",
              "<style scoped>\n",
              "    .dataframe tbody tr th:only-of-type {\n",
              "        vertical-align: middle;\n",
              "    }\n",
              "\n",
              "    .dataframe tbody tr th {\n",
              "        vertical-align: top;\n",
              "    }\n",
              "\n",
              "    .dataframe thead th {\n",
              "        text-align: right;\n",
              "    }\n",
              "</style>\n",
              "<table border=\"1\" class=\"dataframe\">\n",
              "  <thead>\n",
              "    <tr style=\"text-align: right;\">\n",
              "      <th></th>\n",
              "      <th>Date</th>\n",
              "      <th>Monthly Mean Total Sunspot Number</th>\n",
              "    </tr>\n",
              "  </thead>\n",
              "  <tbody>\n",
              "    <tr>\n",
              "      <th>2612</th>\n",
              "      <td>1966-09-30</td>\n",
              "      <td>71.1</td>\n",
              "    </tr>\n",
              "    <tr>\n",
              "      <th>2613</th>\n",
              "      <td>1966-10-31</td>\n",
              "      <td>81.2</td>\n",
              "    </tr>\n",
              "    <tr>\n",
              "      <th>2614</th>\n",
              "      <td>1966-11-30</td>\n",
              "      <td>81.0</td>\n",
              "    </tr>\n",
              "    <tr>\n",
              "      <th>2615</th>\n",
              "      <td>1966-12-31</td>\n",
              "      <td>99.8</td>\n",
              "    </tr>\n",
              "    <tr>\n",
              "      <th>2616</th>\n",
              "      <td>1967-01-31</td>\n",
              "      <td>157.0</td>\n",
              "    </tr>\n",
              "    <tr>\n",
              "      <th>...</th>\n",
              "      <td>...</td>\n",
              "      <td>...</td>\n",
              "    </tr>\n",
              "    <tr>\n",
              "      <th>3260</th>\n",
              "      <td>2020-09-30</td>\n",
              "      <td>0.6</td>\n",
              "    </tr>\n",
              "    <tr>\n",
              "      <th>3261</th>\n",
              "      <td>2020-10-31</td>\n",
              "      <td>14.4</td>\n",
              "    </tr>\n",
              "    <tr>\n",
              "      <th>3262</th>\n",
              "      <td>2020-11-30</td>\n",
              "      <td>34.0</td>\n",
              "    </tr>\n",
              "    <tr>\n",
              "      <th>3263</th>\n",
              "      <td>2020-12-31</td>\n",
              "      <td>21.8</td>\n",
              "    </tr>\n",
              "    <tr>\n",
              "      <th>3264</th>\n",
              "      <td>2021-01-31</td>\n",
              "      <td>10.4</td>\n",
              "    </tr>\n",
              "  </tbody>\n",
              "</table>\n",
              "<p>653 rows × 2 columns</p>\n",
              "</div>"
            ],
            "text/plain": [
              "            Date  Monthly Mean Total Sunspot Number\n",
              "2612  1966-09-30                               71.1\n",
              "2613  1966-10-31                               81.2\n",
              "2614  1966-11-30                               81.0\n",
              "2615  1966-12-31                               99.8\n",
              "2616  1967-01-31                              157.0\n",
              "...          ...                                ...\n",
              "3260  2020-09-30                                0.6\n",
              "3261  2020-10-31                               14.4\n",
              "3262  2020-11-30                               34.0\n",
              "3263  2020-12-31                               21.8\n",
              "3264  2021-01-31                               10.4\n",
              "\n",
              "[653 rows x 2 columns]"
            ]
          },
          "metadata": {
            "tags": []
          },
          "execution_count": 129
        }
      ]
    },
    {
      "cell_type": "code",
      "metadata": {
        "id": "TLdJR6MynJan"
      },
      "source": [
        "#format yang dapat diterima oleh model. Fungsi di bawah menerima sebuah series/atribut kita yang telah di konversi menjadi tipe numpy, lalu mengembalikan label dan atribut dari dataset dalam bentuk batch\n",
        "def windowed_dataset(series, window_size, batch_size, shuffle_buffer):\n",
        "    series = tf.expand_dims(series, axis=-1)\n",
        "    ds = tf.data.Dataset.from_tensor_slices(series)\n",
        "    ds = ds.window(window_size + 1, shift=1, drop_remainder=True)\n",
        "    ds = ds.flat_map(lambda w: w.batch(window_size + 1))\n",
        "    ds = ds.shuffle(shuffle_buffer)\n",
        "    ds = ds.map(lambda w: (w[:-1], w[-1:]))\n",
        "    return ds.batch(batch_size).prefetch(1)"
      ],
      "execution_count": 137,
      "outputs": []
    },
    {
      "cell_type": "code",
      "metadata": {
        "id": "kPIN1PWZ-wF1"
      },
      "source": [
        "#hidden layer yang digunakan lstm dan dropout\n",
        "train_set = windowed_dataset(Y_train, window_size=60, batch_size=100, shuffle_buffer=1000)\n",
        "val_set = windowed_dataset(Y_test, window_size=20, batch_size=100, shuffle_buffer=1000)\n",
        "\n",
        "model = tf.keras.models.Sequential([\n",
        "  tf.keras.layers.LSTM(60, return_sequences=True),\n",
        "  tf.keras.layers.LSTM(60),\n",
        "  tf.keras.layers.Dropout(0.5),\n",
        "  tf.keras.layers.Dense(30, activation=\"relu\"),\n",
        "  tf.keras.layers.Dropout(0.1),\n",
        "  tf.keras.layers.Dense(10, activation=\"relu\"),\n",
        "  tf.keras.layers.Dense(1),\n",
        "])"
      ],
      "execution_count": 146,
      "outputs": []
    },
    {
      "cell_type": "code",
      "metadata": {
        "id": "xsmQ_RP6-7bu"
      },
      "source": [
        "#callback\n",
        "class myCallback(tf.keras.callbacks.Callback):\n",
        "  def on_epoch_end(self, epoch, logs={}):\n",
        "    if(logs.get('mae')< min_mae):\n",
        "      print(\"\\nmae telah mencapai <10%!\")\n",
        "      self.model.stop_training = True\n",
        "callbacks = myCallback()"
      ],
      "execution_count": 147,
      "outputs": []
    },
    {
      "cell_type": "code",
      "metadata": {
        "colab": {
          "base_uri": "https://localhost:8080/"
        },
        "id": "evlAFPK-_Eb_",
        "outputId": "c3cfbe3c-4b54-4e70-dde7-5e106fa2dbf5"
      },
      "source": [
        "#menentukan nilai mae\n",
        "min_mae = (df['Monthly Mean Total Sunspot Number'].max() - df['Monthly Mean Total Sunspot Number'].min()) *0.1\n",
        "min_mae"
      ],
      "execution_count": 148,
      "outputs": [
        {
          "output_type": "execute_result",
          "data": {
            "text/plain": [
              "39.82"
            ]
          },
          "metadata": {
            "tags": []
          },
          "execution_count": 148
        }
      ]
    },
    {
      "cell_type": "code",
      "metadata": {
        "colab": {
          "base_uri": "https://localhost:8080/"
        },
        "id": "jsWt7qdc-1gc",
        "outputId": "f70f6007-62f3-4f8a-82b4-9358b9789304"
      },
      "source": [
        "#optimizer dan model fit\n",
        "optimizer = tf.keras.optimizers.SGD(lr=1.0000e-04, momentum=0.9)\n",
        "model.compile(loss=tf.keras.losses.Huber(),\n",
        "              optimizer=optimizer,\n",
        "              metrics=[\"mae\"])\n",
        "history = model.fit(train_set,validation_data=val_set, epochs=200, callbacks=[callbacks])"
      ],
      "execution_count": 153,
      "outputs": [
        {
          "output_type": "stream",
          "text": [
            "/usr/local/lib/python3.7/dist-packages/tensorflow/python/keras/optimizer_v2/optimizer_v2.py:375: UserWarning: The `lr` argument is deprecated, use `learning_rate` instead.\n",
            "  \"The `lr` argument is deprecated, use `learning_rate` instead.\")\n"
          ],
          "name": "stderr"
        },
        {
          "output_type": "stream",
          "text": [
            "Epoch 1/200\n",
            "26/26 [==============================] - 7s 136ms/step - loss: 79.7825 - mae: 80.2711 - val_loss: 85.1127 - val_mae: 85.6091\n",
            "Epoch 2/200\n",
            "26/26 [==============================] - 3s 102ms/step - loss: 79.5177 - mae: 80.0053 - val_loss: 84.8864 - val_mae: 85.3809\n",
            "Epoch 3/200\n",
            "26/26 [==============================] - 3s 102ms/step - loss: 79.3608 - mae: 79.8499 - val_loss: 84.7745 - val_mae: 85.2677\n",
            "Epoch 4/200\n",
            "26/26 [==============================] - 3s 101ms/step - loss: 79.2073 - mae: 79.6974 - val_loss: 84.6113 - val_mae: 85.1034\n",
            "Epoch 5/200\n",
            "26/26 [==============================] - 3s 104ms/step - loss: 79.0303 - mae: 79.5218 - val_loss: 84.4251 - val_mae: 84.9164\n",
            "Epoch 6/200\n",
            "26/26 [==============================] - 3s 101ms/step - loss: 78.8202 - mae: 79.3127 - val_loss: 84.1739 - val_mae: 84.6655\n",
            "Epoch 7/200\n",
            "26/26 [==============================] - 3s 102ms/step - loss: 78.5520 - mae: 79.0465 - val_loss: 83.8601 - val_mae: 84.3524\n",
            "Epoch 8/200\n",
            "26/26 [==============================] - 3s 102ms/step - loss: 78.2337 - mae: 78.7293 - val_loss: 83.4917 - val_mae: 83.9846\n",
            "Epoch 9/200\n",
            "26/26 [==============================] - 3s 103ms/step - loss: 77.7740 - mae: 78.2699 - val_loss: 82.9500 - val_mae: 83.4456\n",
            "Epoch 10/200\n",
            "26/26 [==============================] - 3s 104ms/step - loss: 77.1460 - mae: 77.6428 - val_loss: 82.2100 - val_mae: 82.7050\n",
            "Epoch 11/200\n",
            "26/26 [==============================] - 3s 103ms/step - loss: 76.2857 - mae: 76.7822 - val_loss: 81.2616 - val_mae: 81.7582\n",
            "Epoch 12/200\n",
            "26/26 [==============================] - 3s 102ms/step - loss: 75.1651 - mae: 75.6612 - val_loss: 79.9417 - val_mae: 80.4360\n",
            "Epoch 13/200\n",
            "26/26 [==============================] - 3s 102ms/step - loss: 73.5886 - mae: 74.0863 - val_loss: 78.0334 - val_mae: 78.5305\n",
            "Epoch 14/200\n",
            "26/26 [==============================] - 3s 102ms/step - loss: 71.2800 - mae: 71.7767 - val_loss: 75.2850 - val_mae: 75.7806\n",
            "Epoch 15/200\n",
            "26/26 [==============================] - 3s 102ms/step - loss: 68.2695 - mae: 68.7660 - val_loss: 71.6436 - val_mae: 72.1406\n",
            "Epoch 16/200\n",
            "26/26 [==============================] - 3s 100ms/step - loss: 64.1634 - mae: 64.6601 - val_loss: 67.1538 - val_mae: 67.6524\n",
            "Epoch 17/200\n",
            "26/26 [==============================] - 3s 102ms/step - loss: 59.5485 - mae: 60.0465 - val_loss: 62.2416 - val_mae: 62.7386\n",
            "Epoch 18/200\n",
            "26/26 [==============================] - 3s 100ms/step - loss: 54.4576 - mae: 54.9546 - val_loss: 56.8447 - val_mae: 57.3423\n",
            "Epoch 19/200\n",
            "26/26 [==============================] - 3s 103ms/step - loss: 48.6429 - mae: 49.1392 - val_loss: 49.3477 - val_mae: 49.8434\n",
            "Epoch 20/200\n",
            "26/26 [==============================] - 3s 102ms/step - loss: 41.4725 - mae: 41.9690 - val_loss: 40.7034 - val_mae: 41.1999\n",
            "Epoch 21/200\n",
            "26/26 [==============================] - 3s 101ms/step - loss: 34.4545 - mae: 34.9500 - val_loss: 33.5179 - val_mae: 34.0118\n",
            "\n",
            "mae telah mencapai <10%!\n"
          ],
          "name": "stdout"
        }
      ]
    },
    {
      "cell_type": "code",
      "metadata": {
        "colab": {
          "base_uri": "https://localhost:8080/",
          "height": 294
        },
        "id": "5m9fCRPucHMN",
        "outputId": "37e5af5c-11a1-4ad0-be56-5322634eb981"
      },
      "source": [
        "#membuat plot loss model\n",
        "import matplotlib.pyplot as plt\n",
        "plt.plot(history.history['loss'])\n",
        "plt.plot(history.history['val_loss'])\n",
        "plt.title('loss')\n",
        "plt.ylabel('loss')\n",
        "plt.xlabel('epoch')\n",
        "plt.legend(['train', 'test'], loc='upper left')\n",
        "plt.show()"
      ],
      "execution_count": 155,
      "outputs": [
        {
          "output_type": "display_data",
          "data": {
            "image/png": "[encoded data removed]",
            "text/plain": [
              "<Figure size 432x288 with 1 Axes>"
            ]
          },
          "metadata": {
            "tags": [],
            "needs_background": "light"
          }
        }
      ]
    },
    {
      "cell_type": "code",
      "metadata": {
        "colab": {
          "base_uri": "https://localhost:8080/",
          "height": 294
        },
        "id": "98SHTDwls2bX",
        "outputId": "e754c581-04d8-48a7-a563-afbbbe507736"
      },
      "source": [
        "#membuat plot mae model\n",
        "import matplotlib.pyplot as plt\n",
        "plt.plot(history.history['mae'])\n",
        "plt.plot(history.history['val_mae'])\n",
        "plt.title('mae')\n",
        "plt.ylabel('mae')\n",
        "plt.xlabel('epoch')\n",
        "plt.legend(['train', 'test'], loc='upper left')\n",
        "plt.show()"
      ],
      "execution_count": 156,
      "outputs": [
        {
          "output_type": "display_data",
          "data": {
            "image/png": "[encoded data removed]",
            "text/plain": [
              "<Figure size 432x288 with 1 Axes>"
            ]
          },
          "metadata": {
            "tags": [],
            "needs_background": "light"
          }
        }
      ]
    }
  ]
}