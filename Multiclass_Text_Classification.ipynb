{
  "nbformat": 4,
  "nbformat_minor": 0,
  "metadata": {
    "colab": {
      "name": "Multiclass Text Classification",
      "provenance": [],
      "authorship_tag": "ABX9TyNd8fr3Ze00ArH5yLfIGkzj",
      "include_colab_link": true
    },
    "kernelspec": {
      "name": "python3",
      "display_name": "Python 3"
    },
    "language_info": {
      "name": "python"
    }
  },
  "cells": [
    {
      "cell_type": "markdown",
      "metadata": {
        "id": "view-in-github",
        "colab_type": "text"
      },
      "source": [
        "<a href=\"https://colab.research.google.com/github/rdwnhadi/LearningDataScience/blob/main/Multiclass_Text_Classification.ipynb\" target=\"_parent\"><img src=\"https://colab.research.google.com/assets/colab-badge.svg\" alt=\"Open In Colab\"/></a>"
      ]
    },
    {
      "cell_type": "code",
      "metadata": {
        "id": "bvE-z9k6S99I"
      },
      "source": [
        "import pandas as pd\n",
        "df = pd.read_csv('imdb_indonesian.csv')\n",
        "df = df.drop(columns=['judul_film'])"
      ],
      "execution_count": 2,
      "outputs": []
    },
    {
      "cell_type": "code",
      "metadata": {
        "colab": {
          "base_uri": "https://localhost:8080/",
          "height": 202
        },
        "id": "1tYxCCxR9Smf",
        "outputId": "e4696050-c362-4aa6-fa6d-ad2ca0919864"
      },
      "source": [
        "df.head()"
      ],
      "execution_count": 4,
      "outputs": [
        {
          "output_type": "execute_result",
          "data": {
            "text/html": [
              "<div>\n",
              "<style scoped>\n",
              "    .dataframe tbody tr th:only-of-type {\n",
              "        vertical-align: middle;\n",
              "    }\n",
              "\n",
              "    .dataframe tbody tr th {\n",
              "        vertical-align: top;\n",
              "    }\n",
              "\n",
              "    .dataframe thead th {\n",
              "        text-align: right;\n",
              "    }\n",
              "</style>\n",
              "<table border=\"1\" class=\"dataframe\">\n",
              "  <thead>\n",
              "    <tr style=\"text-align: right;\">\n",
              "      <th></th>\n",
              "      <th>ringkasan_sinopsis</th>\n",
              "      <th>genre</th>\n",
              "    </tr>\n",
              "  </thead>\n",
              "  <tbody>\n",
              "    <tr>\n",
              "      <th>0</th>\n",
              "      <td>Raden Mas Said putra sulung Tumenggung Wilarik...</td>\n",
              "      <td>Drama</td>\n",
              "    </tr>\n",
              "    <tr>\n",
              "      <th>1</th>\n",
              "      <td>Soe Hok Gie adalah seorang aktivis yang hidup ...</td>\n",
              "      <td>Drama</td>\n",
              "    </tr>\n",
              "    <tr>\n",
              "      <th>2</th>\n",
              "      <td>Guru Bangsa Tjokroaminoto menceritakan tentang...</td>\n",
              "      <td>Drama</td>\n",
              "    </tr>\n",
              "    <tr>\n",
              "      <th>3</th>\n",
              "      <td>POL menceritakan kisah hidup yang luar biasa d...</td>\n",
              "      <td>Drama</td>\n",
              "    </tr>\n",
              "    <tr>\n",
              "      <th>4</th>\n",
              "      <td>Perjalanan pahlawan Indonesia KH Ahmad Dahlan ...</td>\n",
              "      <td>Drama</td>\n",
              "    </tr>\n",
              "  </tbody>\n",
              "</table>\n",
              "</div>"
            ],
            "text/plain": [
              "                                  ringkasan_sinopsis  genre\n",
              "0  Raden Mas Said putra sulung Tumenggung Wilarik...  Drama\n",
              "1  Soe Hok Gie adalah seorang aktivis yang hidup ...  Drama\n",
              "2  Guru Bangsa Tjokroaminoto menceritakan tentang...  Drama\n",
              "3  POL menceritakan kisah hidup yang luar biasa d...  Drama\n",
              "4  Perjalanan pahlawan Indonesia KH Ahmad Dahlan ...  Drama"
            ]
          },
          "metadata": {
            "tags": []
          },
          "execution_count": 4
        }
      ]
    },
    {
      "cell_type": "code",
      "metadata": {
        "colab": {
          "base_uri": "https://localhost:8080/",
          "height": 581
        },
        "id": "bq8JvB3g9ZTY",
        "outputId": "9275058c-fda3-47f0-dc48-dffeaca1e0bf"
      },
      "source": [
        "#one hot encoding\n",
        "category = pd.get_dummies(df.genre)\n",
        "df_baru = pd.concat([df, category], axis=1)\n",
        "df_baru = df_baru.drop(columns='genre')\n",
        "df_baru"
      ],
      "execution_count": 5,
      "outputs": [
        {
          "output_type": "execute_result",
          "data": {
            "text/html": [
              "<div>\n",
              "<style scoped>\n",
              "    .dataframe tbody tr th:only-of-type {\n",
              "        vertical-align: middle;\n",
              "    }\n",
              "\n",
              "    .dataframe tbody tr th {\n",
              "        vertical-align: top;\n",
              "    }\n",
              "\n",
              "    .dataframe thead th {\n",
              "        text-align: right;\n",
              "    }\n",
              "</style>\n",
              "<table border=\"1\" class=\"dataframe\">\n",
              "  <thead>\n",
              "    <tr style=\"text-align: right;\">\n",
              "      <th></th>\n",
              "      <th>ringkasan_sinopsis</th>\n",
              "      <th>Drama</th>\n",
              "      <th>Horor</th>\n",
              "      <th>Komedi</th>\n",
              "      <th>Laga</th>\n",
              "      <th>Romantis</th>\n",
              "    </tr>\n",
              "  </thead>\n",
              "  <tbody>\n",
              "    <tr>\n",
              "      <th>0</th>\n",
              "      <td>Raden Mas Said putra sulung Tumenggung Wilarik...</td>\n",
              "      <td>1</td>\n",
              "      <td>0</td>\n",
              "      <td>0</td>\n",
              "      <td>0</td>\n",
              "      <td>0</td>\n",
              "    </tr>\n",
              "    <tr>\n",
              "      <th>1</th>\n",
              "      <td>Soe Hok Gie adalah seorang aktivis yang hidup ...</td>\n",
              "      <td>1</td>\n",
              "      <td>0</td>\n",
              "      <td>0</td>\n",
              "      <td>0</td>\n",
              "      <td>0</td>\n",
              "    </tr>\n",
              "    <tr>\n",
              "      <th>2</th>\n",
              "      <td>Guru Bangsa Tjokroaminoto menceritakan tentang...</td>\n",
              "      <td>1</td>\n",
              "      <td>0</td>\n",
              "      <td>0</td>\n",
              "      <td>0</td>\n",
              "      <td>0</td>\n",
              "    </tr>\n",
              "    <tr>\n",
              "      <th>3</th>\n",
              "      <td>POL menceritakan kisah hidup yang luar biasa d...</td>\n",
              "      <td>1</td>\n",
              "      <td>0</td>\n",
              "      <td>0</td>\n",
              "      <td>0</td>\n",
              "      <td>0</td>\n",
              "    </tr>\n",
              "    <tr>\n",
              "      <th>4</th>\n",
              "      <td>Perjalanan pahlawan Indonesia KH Ahmad Dahlan ...</td>\n",
              "      <td>1</td>\n",
              "      <td>0</td>\n",
              "      <td>0</td>\n",
              "      <td>0</td>\n",
              "      <td>0</td>\n",
              "    </tr>\n",
              "    <tr>\n",
              "      <th>...</th>\n",
              "      <td>...</td>\n",
              "      <td>...</td>\n",
              "      <td>...</td>\n",
              "      <td>...</td>\n",
              "      <td>...</td>\n",
              "      <td>...</td>\n",
              "    </tr>\n",
              "    <tr>\n",
              "      <th>1000</th>\n",
              "      <td>Winter in Tokyo berpusat pada kehidupan Ishida...</td>\n",
              "      <td>0</td>\n",
              "      <td>0</td>\n",
              "      <td>0</td>\n",
              "      <td>0</td>\n",
              "      <td>1</td>\n",
              "    </tr>\n",
              "    <tr>\n",
              "      <th>1001</th>\n",
              "      <td>Markonah melarikan diri ke Jakarta karena akan...</td>\n",
              "      <td>0</td>\n",
              "      <td>0</td>\n",
              "      <td>0</td>\n",
              "      <td>0</td>\n",
              "      <td>1</td>\n",
              "    </tr>\n",
              "    <tr>\n",
              "      <th>1002</th>\n",
              "      <td>Tempat aking lebih dari 36 jam, Last Night ada...</td>\n",
              "      <td>0</td>\n",
              "      <td>0</td>\n",
              "      <td>0</td>\n",
              "      <td>0</td>\n",
              "      <td>1</td>\n",
              "    </tr>\n",
              "    <tr>\n",
              "      <th>1003</th>\n",
              "      <td>Proyek baru ini adalah tentang seorang lelaki ...</td>\n",
              "      <td>0</td>\n",
              "      <td>0</td>\n",
              "      <td>0</td>\n",
              "      <td>0</td>\n",
              "      <td>1</td>\n",
              "    </tr>\n",
              "    <tr>\n",
              "      <th>1004</th>\n",
              "      <td>Atika (Meriam Bellina) mantan penyanyi tenar, ...</td>\n",
              "      <td>0</td>\n",
              "      <td>0</td>\n",
              "      <td>0</td>\n",
              "      <td>0</td>\n",
              "      <td>1</td>\n",
              "    </tr>\n",
              "  </tbody>\n",
              "</table>\n",
              "<p>1005 rows × 6 columns</p>\n",
              "</div>"
            ],
            "text/plain": [
              "                                     ringkasan_sinopsis  Drama  ...  Laga  Romantis\n",
              "0     Raden Mas Said putra sulung Tumenggung Wilarik...      1  ...     0         0\n",
              "1     Soe Hok Gie adalah seorang aktivis yang hidup ...      1  ...     0         0\n",
              "2     Guru Bangsa Tjokroaminoto menceritakan tentang...      1  ...     0         0\n",
              "3     POL menceritakan kisah hidup yang luar biasa d...      1  ...     0         0\n",
              "4     Perjalanan pahlawan Indonesia KH Ahmad Dahlan ...      1  ...     0         0\n",
              "...                                                 ...    ...  ...   ...       ...\n",
              "1000  Winter in Tokyo berpusat pada kehidupan Ishida...      0  ...     0         1\n",
              "1001  Markonah melarikan diri ke Jakarta karena akan...      0  ...     0         1\n",
              "1002  Tempat aking lebih dari 36 jam, Last Night ada...      0  ...     0         1\n",
              "1003  Proyek baru ini adalah tentang seorang lelaki ...      0  ...     0         1\n",
              "1004  Atika (Meriam Bellina) mantan penyanyi tenar, ...      0  ...     0         1\n",
              "\n",
              "[1005 rows x 6 columns]"
            ]
          },
          "metadata": {
            "tags": []
          },
          "execution_count": 5
        }
      ]
    },
    {
      "cell_type": "code",
      "metadata": {
        "id": "cg595E6K9ecW"
      },
      "source": [
        "#mengubah nilai-nilai dari dataframe ke dalam tipe data numpy array\n",
        "sinopsis = df_baru['ringkasan_sinopsis'].values\n",
        "label = df_baru[['Drama', 'Horor', 'Komedi', 'Laga', 'Romantis']].values"
      ],
      "execution_count": 6,
      "outputs": []
    },
    {
      "cell_type": "code",
      "metadata": {
        "id": "6TWOZIXy9_9q"
      },
      "source": [
        "#membagi data untuk training dan data untuk testing.\n",
        "from sklearn.model_selection import train_test_split\n",
        "sinopsis_latih, sinopsis_test, label_latih, label_test = train_test_split(sinopsis, label, test_size=0.2)"
      ],
      "execution_count": 7,
      "outputs": []
    },
    {
      "cell_type": "code",
      "metadata": {
        "id": "4IfCCmWZ-FXt"
      },
      "source": [
        "#tokenizer,sequencing, dan padding\n",
        "from tensorflow.keras.preprocessing.text import Tokenizer\n",
        "from tensorflow.keras.preprocessing.sequence import pad_sequences\n",
        " \n",
        "tokenizer = Tokenizer(num_words=5000, oov_token='x')\n",
        "tokenizer.fit_on_texts(sinopsis_latih) \n",
        "tokenizer.fit_on_texts(sinopsis_test)\n",
        " \n",
        "sekuens_latih = tokenizer.texts_to_sequences(sinopsis_latih)\n",
        "sekuens_test = tokenizer.texts_to_sequences(sinopsis_test)\n",
        " \n",
        "padded_latih = pad_sequences(sekuens_latih) \n",
        "padded_test = pad_sequences(sekuens_test)"
      ],
      "execution_count": 8,
      "outputs": []
    },
    {
      "cell_type": "code",
      "metadata": {
        "id": "yA0BW-Lq-NQl"
      },
      "source": [
        "#embeding dimensi 16, hidden layers, loss, dna accuracy\n",
        "import tensorflow as tf\n",
        "model = tf.keras.Sequential([\n",
        "    tf.keras.layers.Embedding(input_dim=5000, output_dim=16),\n",
        "    tf.keras.layers.LSTM(64),\n",
        "    tf.keras.layers.Dense(128, activation='relu'),\n",
        "    tf.keras.layers.Dense(64, activation='relu'),\n",
        "    tf.keras.layers.Dense(5, activation='softmax')\n",
        "])\n",
        "model.compile(loss='categorical_crossentropy',optimizer='adam',metrics=['accuracy'])"
      ],
      "execution_count": 9,
      "outputs": []
    },
    {
      "cell_type": "code",
      "metadata": {
        "colab": {
          "base_uri": "https://localhost:8080/"
        },
        "id": "J6arYh3v-ZZL",
        "outputId": "70ec5eb9-9d5b-424d-eb85-921e0b99efa4"
      },
      "source": [
        "num_epochs = 30\n",
        "history = model.fit(padded_latih, label_latih, epochs=num_epochs, \n",
        "                    validation_data=(padded_test, label_test), verbose=2)"
      ],
      "execution_count": 10,
      "outputs": [
        {
          "output_type": "stream",
          "text": [
            "Epoch 1/30\n",
            "26/26 - 29s - loss: 1.6102 - accuracy: 0.1891 - val_loss: 1.6108 - val_accuracy: 0.1642\n",
            "Epoch 2/30\n",
            "26/26 - 26s - loss: 1.6067 - accuracy: 0.2226 - val_loss: 1.6113 - val_accuracy: 0.1642\n",
            "Epoch 3/30\n",
            "26/26 - 26s - loss: 1.5701 - accuracy: 0.3147 - val_loss: 1.6114 - val_accuracy: 0.1791\n",
            "Epoch 4/30\n",
            "26/26 - 26s - loss: 1.3809 - accuracy: 0.4142 - val_loss: 1.8033 - val_accuracy: 0.1841\n",
            "Epoch 5/30\n",
            "26/26 - 26s - loss: 1.1155 - accuracy: 0.6256 - val_loss: 3.9834 - val_accuracy: 0.2139\n",
            "Epoch 6/30\n",
            "26/26 - 26s - loss: 0.8561 - accuracy: 0.7338 - val_loss: 1.8848 - val_accuracy: 0.2935\n",
            "Epoch 7/30\n",
            "26/26 - 26s - loss: 0.3710 - accuracy: 0.9129 - val_loss: 2.4855 - val_accuracy: 0.2786\n",
            "Epoch 8/30\n",
            "26/26 - 27s - loss: 0.1331 - accuracy: 0.9739 - val_loss: 2.8773 - val_accuracy: 0.2537\n",
            "Epoch 9/30\n",
            "26/26 - 26s - loss: 0.0595 - accuracy: 0.9888 - val_loss: 3.3171 - val_accuracy: 0.2537\n",
            "Epoch 10/30\n",
            "26/26 - 27s - loss: 0.0206 - accuracy: 0.9975 - val_loss: 4.1473 - val_accuracy: 0.2537\n",
            "Epoch 11/30\n",
            "26/26 - 27s - loss: 0.0128 - accuracy: 0.9963 - val_loss: 4.3595 - val_accuracy: 0.2537\n",
            "Epoch 12/30\n",
            "26/26 - 26s - loss: 0.0076 - accuracy: 0.9975 - val_loss: 4.4405 - val_accuracy: 0.2488\n",
            "Epoch 13/30\n",
            "26/26 - 26s - loss: 0.0043 - accuracy: 1.0000 - val_loss: 5.0988 - val_accuracy: 0.2289\n",
            "Epoch 14/30\n",
            "26/26 - 26s - loss: 0.0057 - accuracy: 0.9988 - val_loss: 5.1568 - val_accuracy: 0.2388\n",
            "Epoch 15/30\n",
            "26/26 - 26s - loss: 0.0195 - accuracy: 0.9963 - val_loss: 3.8152 - val_accuracy: 0.2388\n",
            "Epoch 16/30\n",
            "26/26 - 26s - loss: 0.0119 - accuracy: 0.9988 - val_loss: 4.1184 - val_accuracy: 0.2637\n",
            "Epoch 17/30\n",
            "26/26 - 26s - loss: 0.0152 - accuracy: 0.9950 - val_loss: 3.7954 - val_accuracy: 0.2836\n",
            "Epoch 18/30\n",
            "26/26 - 26s - loss: 0.0057 - accuracy: 1.0000 - val_loss: 4.0600 - val_accuracy: 0.2438\n",
            "Epoch 19/30\n",
            "26/26 - 27s - loss: 0.0028 - accuracy: 1.0000 - val_loss: 4.3360 - val_accuracy: 0.2537\n",
            "Epoch 20/30\n",
            "26/26 - 26s - loss: 0.0012 - accuracy: 1.0000 - val_loss: 4.4339 - val_accuracy: 0.2488\n",
            "Epoch 21/30\n",
            "26/26 - 26s - loss: 8.9660e-04 - accuracy: 1.0000 - val_loss: 4.5216 - val_accuracy: 0.2587\n",
            "Epoch 22/30\n",
            "26/26 - 26s - loss: 7.3723e-04 - accuracy: 1.0000 - val_loss: 4.6090 - val_accuracy: 0.2587\n",
            "Epoch 23/30\n",
            "26/26 - 27s - loss: 6.0891e-04 - accuracy: 1.0000 - val_loss: 4.7076 - val_accuracy: 0.2687\n",
            "Epoch 24/30\n",
            "26/26 - 26s - loss: 5.2436e-04 - accuracy: 1.0000 - val_loss: 4.7884 - val_accuracy: 0.2736\n",
            "Epoch 25/30\n",
            "26/26 - 26s - loss: 4.5653e-04 - accuracy: 1.0000 - val_loss: 4.8601 - val_accuracy: 0.2736\n",
            "Epoch 26/30\n",
            "26/26 - 26s - loss: 4.0543e-04 - accuracy: 1.0000 - val_loss: 4.9323 - val_accuracy: 0.2736\n",
            "Epoch 27/30\n",
            "26/26 - 26s - loss: 3.6252e-04 - accuracy: 1.0000 - val_loss: 5.0054 - val_accuracy: 0.2736\n",
            "Epoch 28/30\n",
            "26/26 - 26s - loss: 3.2448e-04 - accuracy: 1.0000 - val_loss: 5.0651 - val_accuracy: 0.2687\n",
            "Epoch 29/30\n",
            "26/26 - 26s - loss: 2.9435e-04 - accuracy: 1.0000 - val_loss: 5.1291 - val_accuracy: 0.2687\n",
            "Epoch 30/30\n",
            "26/26 - 26s - loss: 2.6717e-04 - accuracy: 1.0000 - val_loss: 5.1929 - val_accuracy: 0.2736\n"
          ],
          "name": "stdout"
        }
      ]
    }
  ]
}