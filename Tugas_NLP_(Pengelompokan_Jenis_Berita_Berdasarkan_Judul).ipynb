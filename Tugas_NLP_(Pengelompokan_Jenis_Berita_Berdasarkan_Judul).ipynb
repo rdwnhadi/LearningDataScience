{
  "nbformat": 4,
  "nbformat_minor": 0,
  "metadata": {
    "colab": {
      "name": "Tugas NLP (Pengelompokan Jenis Berita Berdasarkan Judul)",
      "provenance": [],
      "authorship_tag": "ABX9TyNvzYWt/IX/3n+qPq2RUNWD",
      "include_colab_link": true
    },
    "kernelspec": {
      "name": "python3",
      "display_name": "Python 3"
    },
    "language_info": {
      "name": "python"
    }
  },
  "cells": [
    {
      "cell_type": "markdown",
      "metadata": {
        "id": "view-in-github",
        "colab_type": "text"
      },
      "source": [
        "<a href=\"https://colab.research.google.com/github/rdwnhadi/LearningDataScience/blob/main/Tugas_NLP_(Pengelompokan_Jenis_Berita_Berdasarkan_Judul).ipynb\" target=\"_parent\"><img src=\"https://colab.research.google.com/assets/colab-badge.svg\" alt=\"Open In Colab\"/></a>"
      ]
    },
    {
      "cell_type": "markdown",
      "metadata": {
        "id": "VslhZJ_RXdID"
      },
      "source": [
        "Nama : Ridwan Hadi Kusuma\n",
        "Peserta Fresh Graduate Academy (FGA)"
      ]
    },
    {
      "cell_type": "code",
      "metadata": {
        "id": "9Uh-9rknEvom"
      },
      "source": [
        "#import library pandas\n",
        "import pandas as pd\n",
        "df = pd.read_csv('True.csv')"
      ],
      "execution_count": 131,
      "outputs": []
    },
    {
      "cell_type": "code",
      "metadata": {
        "colab": {
          "base_uri": "https://localhost:8080/",
          "height": 202
        },
        "id": "-Xdv9cLEE1C1",
        "outputId": "38279640-b624-4ed8-d3eb-b7ba18d71a7d"
      },
      "source": [
        "df.head()"
      ],
      "execution_count": 132,
      "outputs": [
        {
          "output_type": "execute_result",
          "data": {
            "text/html": [
              "<div>\n",
              "<style scoped>\n",
              "    .dataframe tbody tr th:only-of-type {\n",
              "        vertical-align: middle;\n",
              "    }\n",
              "\n",
              "    .dataframe tbody tr th {\n",
              "        vertical-align: top;\n",
              "    }\n",
              "\n",
              "    .dataframe thead th {\n",
              "        text-align: right;\n",
              "    }\n",
              "</style>\n",
              "<table border=\"1\" class=\"dataframe\">\n",
              "  <thead>\n",
              "    <tr style=\"text-align: right;\">\n",
              "      <th></th>\n",
              "      <th>title</th>\n",
              "      <th>text</th>\n",
              "      <th>subject</th>\n",
              "      <th>date</th>\n",
              "    </tr>\n",
              "  </thead>\n",
              "  <tbody>\n",
              "    <tr>\n",
              "      <th>0</th>\n",
              "      <td>As U.S. budget fight looms, Republicans flip t...</td>\n",
              "      <td>WASHINGTON (Reuters) - The head of a conservat...</td>\n",
              "      <td>politicsNews</td>\n",
              "      <td>December 31, 2017</td>\n",
              "    </tr>\n",
              "    <tr>\n",
              "      <th>1</th>\n",
              "      <td>U.S. military to accept transgender recruits o...</td>\n",
              "      <td>WASHINGTON (Reuters) - Transgender people will...</td>\n",
              "      <td>politicsNews</td>\n",
              "      <td>December 29, 2017</td>\n",
              "    </tr>\n",
              "    <tr>\n",
              "      <th>2</th>\n",
              "      <td>Senior U.S. Republican senator: 'Let Mr. Muell...</td>\n",
              "      <td>WASHINGTON (Reuters) - The special counsel inv...</td>\n",
              "      <td>politicsNews</td>\n",
              "      <td>December 31, 2017</td>\n",
              "    </tr>\n",
              "    <tr>\n",
              "      <th>3</th>\n",
              "      <td>FBI Russia probe helped by Australian diplomat...</td>\n",
              "      <td>WASHINGTON (Reuters) - Trump campaign adviser ...</td>\n",
              "      <td>politicsNews</td>\n",
              "      <td>December 30, 2017</td>\n",
              "    </tr>\n",
              "    <tr>\n",
              "      <th>4</th>\n",
              "      <td>Trump wants Postal Service to charge 'much mor...</td>\n",
              "      <td>SEATTLE/WASHINGTON (Reuters) - President Donal...</td>\n",
              "      <td>politicsNews</td>\n",
              "      <td>December 29, 2017</td>\n",
              "    </tr>\n",
              "  </tbody>\n",
              "</table>\n",
              "</div>"
            ],
            "text/plain": [
              "                                               title  ...                date\n",
              "0  As U.S. budget fight looms, Republicans flip t...  ...  December 31, 2017 \n",
              "1  U.S. military to accept transgender recruits o...  ...  December 29, 2017 \n",
              "2  Senior U.S. Republican senator: 'Let Mr. Muell...  ...  December 31, 2017 \n",
              "3  FBI Russia probe helped by Australian diplomat...  ...  December 30, 2017 \n",
              "4  Trump wants Postal Service to charge 'much mor...  ...  December 29, 2017 \n",
              "\n",
              "[5 rows x 4 columns]"
            ]
          },
          "metadata": {
            "tags": []
          },
          "execution_count": 132
        }
      ]
    },
    {
      "cell_type": "code",
      "metadata": {
        "id": "CQ7m4SWlE4Qc"
      },
      "source": [
        "#membuang kolom text dan date\n",
        "df = df.drop(columns=['text', 'date'])"
      ],
      "execution_count": 133,
      "outputs": []
    },
    {
      "cell_type": "code",
      "metadata": {
        "colab": {
          "base_uri": "https://localhost:8080/",
          "height": 202
        },
        "id": "TtnZ9IDsE-TN",
        "outputId": "2ae2ceae-2c64-4f55-ac93-e5e5235cfe78"
      },
      "source": [
        "df.head()"
      ],
      "execution_count": 134,
      "outputs": [
        {
          "output_type": "execute_result",
          "data": {
            "text/html": [
              "<div>\n",
              "<style scoped>\n",
              "    .dataframe tbody tr th:only-of-type {\n",
              "        vertical-align: middle;\n",
              "    }\n",
              "\n",
              "    .dataframe tbody tr th {\n",
              "        vertical-align: top;\n",
              "    }\n",
              "\n",
              "    .dataframe thead th {\n",
              "        text-align: right;\n",
              "    }\n",
              "</style>\n",
              "<table border=\"1\" class=\"dataframe\">\n",
              "  <thead>\n",
              "    <tr style=\"text-align: right;\">\n",
              "      <th></th>\n",
              "      <th>title</th>\n",
              "      <th>subject</th>\n",
              "    </tr>\n",
              "  </thead>\n",
              "  <tbody>\n",
              "    <tr>\n",
              "      <th>0</th>\n",
              "      <td>As U.S. budget fight looms, Republicans flip t...</td>\n",
              "      <td>politicsNews</td>\n",
              "    </tr>\n",
              "    <tr>\n",
              "      <th>1</th>\n",
              "      <td>U.S. military to accept transgender recruits o...</td>\n",
              "      <td>politicsNews</td>\n",
              "    </tr>\n",
              "    <tr>\n",
              "      <th>2</th>\n",
              "      <td>Senior U.S. Republican senator: 'Let Mr. Muell...</td>\n",
              "      <td>politicsNews</td>\n",
              "    </tr>\n",
              "    <tr>\n",
              "      <th>3</th>\n",
              "      <td>FBI Russia probe helped by Australian diplomat...</td>\n",
              "      <td>politicsNews</td>\n",
              "    </tr>\n",
              "    <tr>\n",
              "      <th>4</th>\n",
              "      <td>Trump wants Postal Service to charge 'much mor...</td>\n",
              "      <td>politicsNews</td>\n",
              "    </tr>\n",
              "  </tbody>\n",
              "</table>\n",
              "</div>"
            ],
            "text/plain": [
              "                                               title       subject\n",
              "0  As U.S. budget fight looms, Republicans flip t...  politicsNews\n",
              "1  U.S. military to accept transgender recruits o...  politicsNews\n",
              "2  Senior U.S. Republican senator: 'Let Mr. Muell...  politicsNews\n",
              "3  FBI Russia probe helped by Australian diplomat...  politicsNews\n",
              "4  Trump wants Postal Service to charge 'much mor...  politicsNews"
            ]
          },
          "metadata": {
            "tags": []
          },
          "execution_count": 134
        }
      ]
    },
    {
      "cell_type": "code",
      "metadata": {
        "colab": {
          "base_uri": "https://localhost:8080/",
          "height": 414
        },
        "id": "2M2OW1lMFCu7",
        "outputId": "64469113-c683-4d6a-e7ac-c8a52bc971dc"
      },
      "source": [
        "#one hot encoding pada kolom subject\n",
        "category = pd.get_dummies(df.subject)\n",
        "df_baru = pd.concat([df, category], axis=1)\n",
        "df_baru = df_baru.drop(columns='subject')\n",
        "df_baru"
      ],
      "execution_count": 135,
      "outputs": [
        {
          "output_type": "execute_result",
          "data": {
            "text/html": [
              "<div>\n",
              "<style scoped>\n",
              "    .dataframe tbody tr th:only-of-type {\n",
              "        vertical-align: middle;\n",
              "    }\n",
              "\n",
              "    .dataframe tbody tr th {\n",
              "        vertical-align: top;\n",
              "    }\n",
              "\n",
              "    .dataframe thead th {\n",
              "        text-align: right;\n",
              "    }\n",
              "</style>\n",
              "<table border=\"1\" class=\"dataframe\">\n",
              "  <thead>\n",
              "    <tr style=\"text-align: right;\">\n",
              "      <th></th>\n",
              "      <th>title</th>\n",
              "      <th>politicsNews</th>\n",
              "      <th>worldnews</th>\n",
              "    </tr>\n",
              "  </thead>\n",
              "  <tbody>\n",
              "    <tr>\n",
              "      <th>0</th>\n",
              "      <td>As U.S. budget fight looms, Republicans flip t...</td>\n",
              "      <td>1</td>\n",
              "      <td>0</td>\n",
              "    </tr>\n",
              "    <tr>\n",
              "      <th>1</th>\n",
              "      <td>U.S. military to accept transgender recruits o...</td>\n",
              "      <td>1</td>\n",
              "      <td>0</td>\n",
              "    </tr>\n",
              "    <tr>\n",
              "      <th>2</th>\n",
              "      <td>Senior U.S. Republican senator: 'Let Mr. Muell...</td>\n",
              "      <td>1</td>\n",
              "      <td>0</td>\n",
              "    </tr>\n",
              "    <tr>\n",
              "      <th>3</th>\n",
              "      <td>FBI Russia probe helped by Australian diplomat...</td>\n",
              "      <td>1</td>\n",
              "      <td>0</td>\n",
              "    </tr>\n",
              "    <tr>\n",
              "      <th>4</th>\n",
              "      <td>Trump wants Postal Service to charge 'much mor...</td>\n",
              "      <td>1</td>\n",
              "      <td>0</td>\n",
              "    </tr>\n",
              "    <tr>\n",
              "      <th>...</th>\n",
              "      <td>...</td>\n",
              "      <td>...</td>\n",
              "      <td>...</td>\n",
              "    </tr>\n",
              "    <tr>\n",
              "      <th>21412</th>\n",
              "      <td>'Fully committed' NATO backs new U.S. approach...</td>\n",
              "      <td>0</td>\n",
              "      <td>1</td>\n",
              "    </tr>\n",
              "    <tr>\n",
              "      <th>21413</th>\n",
              "      <td>LexisNexis withdrew two products from Chinese ...</td>\n",
              "      <td>0</td>\n",
              "      <td>1</td>\n",
              "    </tr>\n",
              "    <tr>\n",
              "      <th>21414</th>\n",
              "      <td>Minsk cultural hub becomes haven from authorities</td>\n",
              "      <td>0</td>\n",
              "      <td>1</td>\n",
              "    </tr>\n",
              "    <tr>\n",
              "      <th>21415</th>\n",
              "      <td>Vatican upbeat on possibility of Pope Francis ...</td>\n",
              "      <td>0</td>\n",
              "      <td>1</td>\n",
              "    </tr>\n",
              "    <tr>\n",
              "      <th>21416</th>\n",
              "      <td>Indonesia to buy $1.14 billion worth of Russia...</td>\n",
              "      <td>0</td>\n",
              "      <td>1</td>\n",
              "    </tr>\n",
              "  </tbody>\n",
              "</table>\n",
              "<p>21417 rows × 3 columns</p>\n",
              "</div>"
            ],
            "text/plain": [
              "                                                   title  ...  worldnews\n",
              "0      As U.S. budget fight looms, Republicans flip t...  ...          0\n",
              "1      U.S. military to accept transgender recruits o...  ...          0\n",
              "2      Senior U.S. Republican senator: 'Let Mr. Muell...  ...          0\n",
              "3      FBI Russia probe helped by Australian diplomat...  ...          0\n",
              "4      Trump wants Postal Service to charge 'much mor...  ...          0\n",
              "...                                                  ...  ...        ...\n",
              "21412  'Fully committed' NATO backs new U.S. approach...  ...          1\n",
              "21413  LexisNexis withdrew two products from Chinese ...  ...          1\n",
              "21414  Minsk cultural hub becomes haven from authorities  ...          1\n",
              "21415  Vatican upbeat on possibility of Pope Francis ...  ...          1\n",
              "21416  Indonesia to buy $1.14 billion worth of Russia...  ...          1\n",
              "\n",
              "[21417 rows x 3 columns]"
            ]
          },
          "metadata": {
            "tags": []
          },
          "execution_count": 135
        }
      ]
    },
    {
      "cell_type": "code",
      "metadata": {
        "id": "BUMY1tJJFJXD"
      },
      "source": [
        "#membuat dataframe baru\n",
        "judul_berita = df_baru['title'].values\n",
        "label = df_baru[['politicsNews', 'worldnews',]].values"
      ],
      "execution_count": 136,
      "outputs": []
    },
    {
      "cell_type": "code",
      "metadata": {
        "id": "U5rYW2xNFk7j"
      },
      "source": [
        "#import library sklearn untuk membagi data test dan latih dengan ukuran validasi 0.2\n",
        "from sklearn.model_selection import train_test_split\n",
        "judul_berita_latih, judul_berita_test, label_latih, label_test = train_test_split(judul_berita, label, test_size=0.2)"
      ],
      "execution_count": 137,
      "outputs": []
    },
    {
      "cell_type": "code",
      "metadata": {
        "id": "nL5U6dSNFxgD"
      },
      "source": [
        "#tokenisasi dan padding\n",
        "from tensorflow.keras.preprocessing.text import Tokenizer\n",
        "from tensorflow.keras.preprocessing.sequence import pad_sequences\n",
        " \n",
        "tokenizer = Tokenizer(num_words=100, oov_token='x')\n",
        "tokenizer.fit_on_texts(judul_berita_latih) \n",
        "tokenizer.fit_on_texts(judul_berita_test)\n",
        " \n",
        "sekuens_latih = tokenizer.texts_to_sequences(judul_berita_latih)\n",
        "sekuens_test = tokenizer.texts_to_sequences(judul_berita_test)\n",
        " \n",
        "padded_latih = pad_sequences(sekuens_latih) \n",
        "padded_test = pad_sequences(sekuens_test)"
      ],
      "execution_count": 138,
      "outputs": []
    },
    {
      "cell_type": "code",
      "metadata": {
        "id": "D3ctEPuQGB3L"
      },
      "source": [
        "#hidden layers, sequence, embedding, dan LSTM\n",
        "import tensorflow as tf\n",
        "import tensorflow as tf\n",
        "model = tf.keras.Sequential([\n",
        "    tf.keras.layers.Embedding(100, 16, input_length=20),\n",
        "    tf.keras.layers.LSTM(64),\n",
        "    tf.keras.layers.Dense(256, activation='relu'),\n",
        "    tf.keras.layers.Dense(128, activation='relu'),\n",
        "    tf.keras.layers.Dense(64, activation='relu'),\n",
        "    tf.keras.layers.Dense(24, activation='relu'),\n",
        "    tf.keras.layers.Dense(2, activation='sigmoid')\n",
        "])\n",
        "model.compile(loss='binary_crossentropy',optimizer='adam',metrics=['accuracy']) #menggunakan binary karena hanya ada 2 klasifikasi"
      ],
      "execution_count": 146,
      "outputs": []
    },
    {
      "cell_type": "code",
      "metadata": {
        "colab": {
          "base_uri": "https://localhost:8080/"
        },
        "id": "qfsJ5eb3kGDA",
        "outputId": "945b9aad-84f5-47fe-b1c1-3d3808fc65e6"
      },
      "source": [
        "print(model.summary())"
      ],
      "execution_count": 149,
      "outputs": [
        {
          "output_type": "stream",
          "text": [
            "Model: \"sequential_22\"\n",
            "_________________________________________________________________\n",
            "Layer (type)                 Output Shape              Param #   \n",
            "=================================================================\n",
            "embedding_22 (Embedding)     (None, 20, 16)            1600      \n",
            "_________________________________________________________________\n",
            "lstm_21 (LSTM)               (None, 64)                20736     \n",
            "_________________________________________________________________\n",
            "dense_67 (Dense)             (None, 256)               16640     \n",
            "_________________________________________________________________\n",
            "dense_68 (Dense)             (None, 128)               32896     \n",
            "_________________________________________________________________\n",
            "dense_69 (Dense)             (None, 64)                8256      \n",
            "_________________________________________________________________\n",
            "dense_70 (Dense)             (None, 24)                1560      \n",
            "_________________________________________________________________\n",
            "dense_71 (Dense)             (None, 2)                 50        \n",
            "=================================================================\n",
            "Total params: 81,738\n",
            "Trainable params: 81,738\n",
            "Non-trainable params: 0\n",
            "_________________________________________________________________\n",
            "None\n"
          ],
          "name": "stdout"
        }
      ]
    },
    {
      "cell_type": "code",
      "metadata": {
        "id": "y57DtKeFSA60"
      },
      "source": [
        "#menggunakan callback untuk menstop pengujian jika akurasi sudah 95%\n",
        "class myCallback(tf.keras.callbacks.Callback):\n",
        "  def on_epoch_end(self, epoch, logs={}):\n",
        "    if(logs.get('accuracy')>0.95):\n",
        "      print(\"\\nAkurasi telah mencapai >95%!\")\n",
        "      self.model.stop_training = True\n",
        "callbacks = myCallback()"
      ],
      "execution_count": 147,
      "outputs": []
    },
    {
      "cell_type": "code",
      "metadata": {
        "colab": {
          "base_uri": "https://localhost:8080/"
        },
        "id": "CSsw5zEvHBfo",
        "outputId": "f0a37d37-6bcc-466f-b563-d311d1f9671b"
      },
      "source": [
        "num_epochs = 30\n",
        "history = model.fit(padded_latih, label_latih, epochs=num_epochs, \n",
        "                    validation_data=(padded_test, label_test), verbose=2, callbacks=[callbacks])"
      ],
      "execution_count": 148,
      "outputs": [
        {
          "output_type": "stream",
          "text": [
            "Epoch 1/30\n",
            "WARNING:tensorflow:Model was constructed with shape (None, 20) for input KerasTensor(type_spec=TensorSpec(shape=(None, 20), dtype=tf.float32, name='embedding_22_input'), name='embedding_22_input', description=\"created by layer 'embedding_22_input'\"), but it was called on an input with incompatible shape (None, 21).\n",
            "WARNING:tensorflow:Model was constructed with shape (None, 20) for input KerasTensor(type_spec=TensorSpec(shape=(None, 20), dtype=tf.float32, name='embedding_22_input'), name='embedding_22_input', description=\"created by layer 'embedding_22_input'\"), but it was called on an input with incompatible shape (None, 21).\n",
            "WARNING:tensorflow:Model was constructed with shape (None, 20) for input KerasTensor(type_spec=TensorSpec(shape=(None, 20), dtype=tf.float32, name='embedding_22_input'), name='embedding_22_input', description=\"created by layer 'embedding_22_input'\"), but it was called on an input with incompatible shape (None, 18).\n",
            "536/536 - 11s - loss: 0.4191 - accuracy: 0.8048 - val_loss: 0.3644 - val_accuracy: 0.8527\n",
            "Epoch 2/30\n",
            "536/536 - 8s - loss: 0.3575 - accuracy: 0.8502 - val_loss: 0.3629 - val_accuracy: 0.8494\n",
            "Epoch 3/30\n",
            "536/536 - 8s - loss: 0.3502 - accuracy: 0.8520 - val_loss: 0.3460 - val_accuracy: 0.8520\n",
            "Epoch 4/30\n",
            "536/536 - 7s - loss: 0.3424 - accuracy: 0.8553 - val_loss: 0.3542 - val_accuracy: 0.8562\n",
            "Epoch 5/30\n",
            "536/536 - 8s - loss: 0.3398 - accuracy: 0.8566 - val_loss: 0.3443 - val_accuracy: 0.8564\n",
            "Epoch 6/30\n",
            "536/536 - 8s - loss: 0.3396 - accuracy: 0.8568 - val_loss: 0.3467 - val_accuracy: 0.8543\n",
            "Epoch 7/30\n",
            "536/536 - 7s - loss: 0.3369 - accuracy: 0.8585 - val_loss: 0.3522 - val_accuracy: 0.8522\n",
            "Epoch 8/30\n",
            "536/536 - 7s - loss: 0.3337 - accuracy: 0.8610 - val_loss: 0.3439 - val_accuracy: 0.8532\n",
            "Epoch 9/30\n",
            "536/536 - 7s - loss: 0.3335 - accuracy: 0.8596 - val_loss: 0.3441 - val_accuracy: 0.8557\n",
            "Epoch 10/30\n",
            "536/536 - 7s - loss: 0.3304 - accuracy: 0.8609 - val_loss: 0.3454 - val_accuracy: 0.8532\n",
            "Epoch 11/30\n",
            "536/536 - 7s - loss: 0.3296 - accuracy: 0.8606 - val_loss: 0.3417 - val_accuracy: 0.8522\n",
            "Epoch 12/30\n",
            "536/536 - 7s - loss: 0.3284 - accuracy: 0.8606 - val_loss: 0.3461 - val_accuracy: 0.8525\n",
            "Epoch 13/30\n",
            "536/536 - 7s - loss: 0.3280 - accuracy: 0.8609 - val_loss: 0.3423 - val_accuracy: 0.8557\n",
            "Epoch 14/30\n",
            "536/536 - 7s - loss: 0.3240 - accuracy: 0.8641 - val_loss: 0.3511 - val_accuracy: 0.8543\n",
            "Epoch 15/30\n",
            "536/536 - 7s - loss: 0.3248 - accuracy: 0.8620 - val_loss: 0.3420 - val_accuracy: 0.8529\n",
            "Epoch 16/30\n",
            "536/536 - 8s - loss: 0.3224 - accuracy: 0.8634 - val_loss: 0.3399 - val_accuracy: 0.8548\n",
            "Epoch 17/30\n",
            "536/536 - 7s - loss: 0.3207 - accuracy: 0.8645 - val_loss: 0.3479 - val_accuracy: 0.8560\n",
            "Epoch 18/30\n",
            "536/536 - 7s - loss: 0.3205 - accuracy: 0.8643 - val_loss: 0.3407 - val_accuracy: 0.8564\n",
            "Epoch 19/30\n",
            "536/536 - 7s - loss: 0.3195 - accuracy: 0.8653 - val_loss: 0.3385 - val_accuracy: 0.8555\n",
            "Epoch 20/30\n",
            "536/536 - 7s - loss: 0.3180 - accuracy: 0.8630 - val_loss: 0.3402 - val_accuracy: 0.8550\n",
            "Epoch 21/30\n",
            "536/536 - 7s - loss: 0.3138 - accuracy: 0.8665 - val_loss: 0.3416 - val_accuracy: 0.8569\n",
            "Epoch 22/30\n",
            "536/536 - 7s - loss: 0.3133 - accuracy: 0.8669 - val_loss: 0.3431 - val_accuracy: 0.8567\n",
            "Epoch 23/30\n",
            "536/536 - 8s - loss: 0.3105 - accuracy: 0.8681 - val_loss: 0.3380 - val_accuracy: 0.8592\n",
            "Epoch 24/30\n",
            "536/536 - 8s - loss: 0.3096 - accuracy: 0.8669 - val_loss: 0.3571 - val_accuracy: 0.8576\n",
            "Epoch 25/30\n",
            "536/536 - 7s - loss: 0.3087 - accuracy: 0.8698 - val_loss: 0.3362 - val_accuracy: 0.8557\n",
            "Epoch 26/30\n",
            "536/536 - 7s - loss: 0.3055 - accuracy: 0.8689 - val_loss: 0.3480 - val_accuracy: 0.8543\n",
            "Epoch 27/30\n",
            "536/536 - 7s - loss: 0.3040 - accuracy: 0.8685 - val_loss: 0.3429 - val_accuracy: 0.8597\n",
            "Epoch 28/30\n",
            "536/536 - 7s - loss: 0.3029 - accuracy: 0.8693 - val_loss: 0.3442 - val_accuracy: 0.8557\n",
            "Epoch 29/30\n",
            "536/536 - 7s - loss: 0.3004 - accuracy: 0.8715 - val_loss: 0.3405 - val_accuracy: 0.8585\n",
            "Epoch 30/30\n",
            "536/536 - 7s - loss: 0.2967 - accuracy: 0.8732 - val_loss: 0.3486 - val_accuracy: 0.8588\n"
          ],
          "name": "stdout"
        }
      ]
    },
    {
      "cell_type": "code",
      "metadata": {
        "colab": {
          "base_uri": "https://localhost:8080/",
          "height": 294
        },
        "id": "Tpw4NgLBQms0",
        "outputId": "b8cda121-4839-490d-8574-1c130ff0f73f"
      },
      "source": [
        "#membuat plot akurasi model\n",
        "import matplotlib.pyplot as plt\n",
        "plt.plot(history.history['accuracy'])\n",
        "plt.plot(history.history['val_accuracy'])\n",
        "plt.title('Akurasi Model')\n",
        "plt.ylabel('accuracy')\n",
        "plt.xlabel('epoch')\n",
        "plt.legend(['train', 'test'], loc='upper left')\n",
        "plt.show()"
      ],
      "execution_count": 150,
      "outputs": [
        {
          "output_type": "display_data",
          "data": {
            "image/png": "[encoded data removed]",
            "text/plain": [
              "<Figure size 432x288 with 1 Axes>"
            ]
          },
          "metadata": {
            "tags": [],
            "needs_background": "light"
          }
        }
      ]
    },
    {
      "cell_type": "code",
      "metadata": {
        "colab": {
          "base_uri": "https://localhost:8080/",
          "height": 294
        },
        "id": "XFa_2mk7RD5l",
        "outputId": "2484aabe-53eb-4608-d0c0-56f22c4b3971"
      },
      "source": [
        "#membuat plot loss model\n",
        "plt.plot(history.history['loss'])\n",
        "plt.plot(history.history['val_loss'])\n",
        "plt.title('Loss Model')\n",
        "plt.ylabel('loss')\n",
        "plt.xlabel('epoch')\n",
        "plt.legend(['train', 'test'], loc='upper left')\n",
        "plt.show()"
      ],
      "execution_count": 151,
      "outputs": [
        {
          "output_type": "display_data",
          "data": {
            "image/png": "[encoded data removed]",
            "text/plain": [
              "<Figure size 432x288 with 1 Axes>"
            ]
          },
          "metadata": {
            "tags": [],
            "needs_background": "light"
          }
        }
      ]
    }
  ]
}