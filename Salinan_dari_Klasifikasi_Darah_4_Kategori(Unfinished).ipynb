{
  "nbformat": 4,
  "nbformat_minor": 0,
  "metadata": {
    "colab": {
      "name": "Salinan dari Klasifikasi Darah 4 Kategori",
      "provenance": [],
      "authorship_tag": "ABX9TyMpJb/WfHQiomgG23KJ+lhG",
      "include_colab_link": true
    },
    "kernelspec": {
      "name": "python3",
      "display_name": "Python 3"
    },
    "language_info": {
      "name": "python"
    },
    "accelerator": "GPU"
  },
  "cells": [
    {
      "cell_type": "markdown",
      "metadata": {
        "id": "view-in-github",
        "colab_type": "text"
      },
      "source": [
        "<a href=\"https://colab.research.google.com/github/rdwnhadi/LearningDataScience/blob/main/Salinan_dari_Klasifikasi_Darah_4_Kategori(Unfinished).ipynb\" target=\"_parent\"><img src=\"https://colab.research.google.com/assets/colab-badge.svg\" alt=\"Open In Colab\"/></a>"
      ]
    },
    {
      "cell_type": "markdown",
      "metadata": {
        "id": "F9mgzz1pzmvZ"
      },
      "source": [
        "Tugas Akhir Dicoding\n",
        "\n",
        "Nama : Ridwan Hadi Kusuma"
      ]
    },
    {
      "cell_type": "code",
      "metadata": {
        "id": "BlT3neO6qgAJ"
      },
      "source": [
        "#import library\n",
        "import pandas as pd\n",
        "import numpy as np\n",
        "import seaborn as sns\n",
        "import matplotlib.pyplot as plt\n",
        "import tensorflow as tf"
      ],
      "execution_count": 1,
      "outputs": []
    },
    {
      "cell_type": "code",
      "metadata": {
        "id": "mZ8GzBfpE_AV"
      },
      "source": [
        "#ekstrak file zip\n",
        "\n",
        "import zipfile,os\n",
        "local_zip = '/content/dataset2-master.zip'\n",
        "zip_ref = zipfile.ZipFile(local_zip,'r')\n",
        "zip_ref.extractall('/tmp/bloodcell')\n",
        "zip_ref.close()"
      ],
      "execution_count": 2,
      "outputs": []
    },
    {
      "cell_type": "code",
      "metadata": {
        "colab": {
          "base_uri": "https://localhost:8080/"
        },
        "id": "2RuGgLuNFKXO",
        "outputId": "0c08ce96-580e-4934-83e2-6ea676e77f07"
      },
      "source": [
        "#cek direktori/folder\n",
        "os.listdir('/tmp/bloodcell/dataset2-master/images/TRAIN')"
      ],
      "execution_count": 3,
      "outputs": [
        {
          "output_type": "execute_result",
          "data": {
            "text/plain": [
              "['LYMPHOCYTE', 'MONOCYTE', 'NEUTROPHIL', 'EOSINOPHIL']"
            ]
          },
          "metadata": {
            "tags": []
          },
          "execution_count": 3
        }
      ]
    },
    {
      "cell_type": "code",
      "metadata": {
        "id": "6zhqzUgXNDPg"
      },
      "source": [
        "#import fungsi direktori\n",
        "import os\n",
        "import os.path\n",
        "from pathlib import Path\n",
        "import glob\n",
        "\n",
        "train_path = Path('/tmp/bloodcell/dataset2-master/images/TRAIN')\n",
        "test_path = Path('/tmp/bloodcell/dataset2-master/images/TEST')\n",
        "val_path = Path('/tmp/bloodcell/dataset2-master/images/TEST_SIMPLE')"
      ],
      "execution_count": 4,
      "outputs": []
    },
    {
      "cell_type": "code",
      "metadata": {
        "id": "YYCdEh-hQOPg"
      },
      "source": [
        "train_img_path = list(train_path.glob(r\"**/*.jpeg\"))\n",
        "test_img_path = list(test_path.glob(r\"**/*.jpeg\"))\n",
        "val_img_path = list(val_path.glob(r\"**/*.jpeg\"))"
      ],
      "execution_count": 5,
      "outputs": []
    },
    {
      "cell_type": "code",
      "metadata": {
        "id": "5R1RPgn0Qntb"
      },
      "source": [
        "Train_JPG_Labels = list(map(lambda x: os.path.split(os.path.split(x)[0])[1],train_img_path))"
      ],
      "execution_count": 6,
      "outputs": []
    },
    {
      "cell_type": "code",
      "metadata": {
        "colab": {
          "base_uri": "https://localhost:8080/"
        },
        "id": "959509DeQeMh",
        "outputId": "31568763-1032-4e72-b88e-f028a6d6d05d"
      },
      "source": [
        "print(\"EOSINOPHIL: \", Train_JPG_Labels.count(\"EOSINOPHIL\"))\n",
        "print(\"LYMPHOCYTE: \", Train_JPG_Labels.count(\"LYMPHOCYTE\"))\n",
        "print(\"MONOCYTE: \", Train_JPG_Labels.count(\"MONOCYTE\"))\n",
        "print(\"NEUTROPHIL: \", Train_JPG_Labels.count(\"NEUTROPHIL\"))"
      ],
      "execution_count": 7,
      "outputs": [
        {
          "output_type": "stream",
          "text": [
            "EOSINOPHIL:  2497\n",
            "LYMPHOCYTE:  2483\n",
            "MONOCYTE:  2478\n",
            "NEUTROPHIL:  2499\n"
          ],
          "name": "stdout"
        }
      ]
    },
    {
      "cell_type": "code",
      "metadata": {
        "id": "VgxQfYFwKDES"
      },
      "source": [
        "Test_JPG_Labels = list(map(lambda x: os.path.split(os.path.split(x)[0])[1],test_img_path))"
      ],
      "execution_count": 8,
      "outputs": []
    },
    {
      "cell_type": "code",
      "metadata": {
        "colab": {
          "base_uri": "https://localhost:8080/"
        },
        "id": "9hOoGccYKHrH",
        "outputId": "8bfec66e-0c38-4732-8a72-372980aa0c4f"
      },
      "source": [
        "print(\"EOSINOPHIL: \", Test_JPG_Labels.count(\"EOSINOPHIL\"))\n",
        "print(\"LYMPHOCYTE: \", Test_JPG_Labels.count(\"LYMPHOCYTE\"))\n",
        "print(\"MONOCYTE: \",Test_JPG_Labels.count(\"MONOCYTE\"))\n",
        "print(\"NEUTROPHIL: \", Test_JPG_Labels.count(\"NEUTROPHIL\"))"
      ],
      "execution_count": 9,
      "outputs": [
        {
          "output_type": "stream",
          "text": [
            "EOSINOPHIL:  623\n",
            "LYMPHOCYTE:  620\n",
            "MONOCYTE:  620\n",
            "NEUTROPHIL:  624\n"
          ],
          "name": "stdout"
        }
      ]
    },
    {
      "cell_type": "code",
      "metadata": {
        "id": "iqcqDuAAKN_g"
      },
      "source": [
        "Val_JPG_Labels = list(map(lambda x: os.path.split(os.path.split(x)[0])[1],val_img_path))"
      ],
      "execution_count": 10,
      "outputs": []
    },
    {
      "cell_type": "code",
      "metadata": {
        "colab": {
          "base_uri": "https://localhost:8080/"
        },
        "id": "d6J085ZEKRrw",
        "outputId": "33b27b03-1aa8-4329-ba01-ea9f1798788e"
      },
      "source": [
        "print(\"EOSINOPHIL: \", Val_JPG_Labels .count(\"EOSINOPHIL\"))\n",
        "print(\"LYMPHOCYTE: \", Val_JPG_Labels .count(\"LYMPHOCYTE\"))\n",
        "print(\"MONOCYTE: \",Val_JPG_Labels .count(\"MONOCYTE\"))\n",
        "print(\"NEUTROPHIL: \", Val_JPG_Labels .count(\"NEUTROPHIL\"))"
      ],
      "execution_count": 11,
      "outputs": [
        {
          "output_type": "stream",
          "text": [
            "EOSINOPHIL:  13\n",
            "LYMPHOCYTE:  6\n",
            "MONOCYTE:  4\n",
            "NEUTROPHIL:  48\n"
          ],
          "name": "stdout"
        }
      ]
    },
    {
      "cell_type": "code",
      "metadata": {
        "id": "uhsQGWe_JQC8"
      },
      "source": [
        "# membuat image data generator\n",
        "from PIL import Image\n",
        "from keras.preprocessing import image\n",
        "from tensorflow.keras.preprocessing.image import ImageDataGenerator"
      ],
      "execution_count": 12,
      "outputs": []
    },
    {
      "cell_type": "markdown",
      "metadata": {
        "id": "1b-xz7-WQLkJ"
      },
      "source": [
        "TRANSFORMATION TO SERIES STRUCTURE¶"
      ]
    },
    {
      "cell_type": "code",
      "metadata": {
        "id": "PabjsyEWP6EA"
      },
      "source": [
        "train_img_path_Series = pd.Series(train_img_path,name=\"JPG\").astype(str)"
      ],
      "execution_count": 13,
      "outputs": []
    },
    {
      "cell_type": "code",
      "metadata": {
        "id": "bMDUeEtqQEFR"
      },
      "source": [
        "Train_JPG_Labels_Series = pd.Series(Train_JPG_Labels,name=\"CATEGORY\")"
      ],
      "execution_count": 14,
      "outputs": []
    },
    {
      "cell_type": "code",
      "metadata": {
        "id": "G-uumwmBQOJR"
      },
      "source": [
        "test_img_path_Series = pd.Series(test_img_path,name=\"JPG\").astype(str)"
      ],
      "execution_count": 15,
      "outputs": []
    },
    {
      "cell_type": "code",
      "metadata": {
        "id": "_4LhufwOQTmN"
      },
      "source": [
        "Test_JPG_Labels_Series = pd.Series(Test_JPG_Labels,name=\"CATEGORY\")"
      ],
      "execution_count": 16,
      "outputs": []
    },
    {
      "cell_type": "code",
      "metadata": {
        "id": "2L4JcSl5QVS4"
      },
      "source": [
        "val_img_path_Series = pd.Series(val_img_path,name=\"JPG\").astype(str)"
      ],
      "execution_count": 17,
      "outputs": []
    },
    {
      "cell_type": "code",
      "metadata": {
        "id": "Vx63cXnSQbgS"
      },
      "source": [
        "Val_JPG_Labels_Series = pd.Series(Val_JPG_Labels,name=\"CATEGORY\")"
      ],
      "execution_count": 18,
      "outputs": []
    },
    {
      "cell_type": "markdown",
      "metadata": {
        "id": "xnUeOF0UQkaO"
      },
      "source": [
        "TRANSFORMATION TO DATAFRAME STRUCTURE"
      ]
    },
    {
      "cell_type": "code",
      "metadata": {
        "id": "z9rGQXIsQkCB"
      },
      "source": [
        "Main_Train_Data = pd.concat([train_img_path_Series,Train_JPG_Labels_Series],axis=1)"
      ],
      "execution_count": 19,
      "outputs": []
    },
    {
      "cell_type": "code",
      "metadata": {
        "colab": {
          "base_uri": "https://localhost:8080/"
        },
        "id": "ErEosl-6QsiL",
        "outputId": "b7abe42a-4be9-4c2d-b38c-60e42270957b"
      },
      "source": [
        "print(Main_Train_Data.head(-1))"
      ],
      "execution_count": 20,
      "outputs": [
        {
          "output_type": "stream",
          "text": [
            "                                                    JPG    CATEGORY\n",
            "0     /tmp/bloodcell/dataset2-master/images/TRAIN/LY...  LYMPHOCYTE\n",
            "1     /tmp/bloodcell/dataset2-master/images/TRAIN/LY...  LYMPHOCYTE\n",
            "2     /tmp/bloodcell/dataset2-master/images/TRAIN/LY...  LYMPHOCYTE\n",
            "3     /tmp/bloodcell/dataset2-master/images/TRAIN/LY...  LYMPHOCYTE\n",
            "4     /tmp/bloodcell/dataset2-master/images/TRAIN/LY...  LYMPHOCYTE\n",
            "...                                                 ...         ...\n",
            "9951  /tmp/bloodcell/dataset2-master/images/TRAIN/EO...  EOSINOPHIL\n",
            "9952  /tmp/bloodcell/dataset2-master/images/TRAIN/EO...  EOSINOPHIL\n",
            "9953  /tmp/bloodcell/dataset2-master/images/TRAIN/EO...  EOSINOPHIL\n",
            "9954  /tmp/bloodcell/dataset2-master/images/TRAIN/EO...  EOSINOPHIL\n",
            "9955  /tmp/bloodcell/dataset2-master/images/TRAIN/EO...  EOSINOPHIL\n",
            "\n",
            "[9956 rows x 2 columns]\n"
          ],
          "name": "stdout"
        }
      ]
    },
    {
      "cell_type": "code",
      "metadata": {
        "id": "Xv0GVjL2QvsE"
      },
      "source": [
        "Main_Test_Data = pd.concat([test_img_path_Series,Test_JPG_Labels_Series],axis=1)"
      ],
      "execution_count": 21,
      "outputs": []
    },
    {
      "cell_type": "code",
      "metadata": {
        "colab": {
          "base_uri": "https://localhost:8080/"
        },
        "id": "XkE85HnKQ1M2",
        "outputId": "0e76825a-0b5f-45bd-9cae-772836acc347"
      },
      "source": [
        "print(Main_Test_Data.head(-1))"
      ],
      "execution_count": 22,
      "outputs": [
        {
          "output_type": "stream",
          "text": [
            "                                                    JPG    CATEGORY\n",
            "0     /tmp/bloodcell/dataset2-master/images/TEST/LYM...  LYMPHOCYTE\n",
            "1     /tmp/bloodcell/dataset2-master/images/TEST/LYM...  LYMPHOCYTE\n",
            "2     /tmp/bloodcell/dataset2-master/images/TEST/LYM...  LYMPHOCYTE\n",
            "3     /tmp/bloodcell/dataset2-master/images/TEST/LYM...  LYMPHOCYTE\n",
            "4     /tmp/bloodcell/dataset2-master/images/TEST/LYM...  LYMPHOCYTE\n",
            "...                                                 ...         ...\n",
            "2481  /tmp/bloodcell/dataset2-master/images/TEST/EOS...  EOSINOPHIL\n",
            "2482  /tmp/bloodcell/dataset2-master/images/TEST/EOS...  EOSINOPHIL\n",
            "2483  /tmp/bloodcell/dataset2-master/images/TEST/EOS...  EOSINOPHIL\n",
            "2484  /tmp/bloodcell/dataset2-master/images/TEST/EOS...  EOSINOPHIL\n",
            "2485  /tmp/bloodcell/dataset2-master/images/TEST/EOS...  EOSINOPHIL\n",
            "\n",
            "[2486 rows x 2 columns]\n"
          ],
          "name": "stdout"
        }
      ]
    },
    {
      "cell_type": "code",
      "metadata": {
        "id": "p9usLjuWQ3NA"
      },
      "source": [
        "Main_Val_Data = pd.concat([val_img_path_Series,Val_JPG_Labels_Series],axis=1)"
      ],
      "execution_count": 23,
      "outputs": []
    },
    {
      "cell_type": "code",
      "metadata": {
        "colab": {
          "base_uri": "https://localhost:8080/"
        },
        "id": "4JwwmhSUQ9Wg",
        "outputId": "1baa4461-f46f-4706-c9a4-06765b3a9e3d"
      },
      "source": [
        "print(Main_Val_Data.head(-1))"
      ],
      "execution_count": 24,
      "outputs": [
        {
          "output_type": "stream",
          "text": [
            "                                                  JPG    CATEGORY\n",
            "0   /tmp/bloodcell/dataset2-master/images/TEST_SIM...  LYMPHOCYTE\n",
            "1   /tmp/bloodcell/dataset2-master/images/TEST_SIM...  LYMPHOCYTE\n",
            "2   /tmp/bloodcell/dataset2-master/images/TEST_SIM...  LYMPHOCYTE\n",
            "3   /tmp/bloodcell/dataset2-master/images/TEST_SIM...  LYMPHOCYTE\n",
            "4   /tmp/bloodcell/dataset2-master/images/TEST_SIM...  LYMPHOCYTE\n",
            "..                                                ...         ...\n",
            "65  /tmp/bloodcell/dataset2-master/images/TEST_SIM...  EOSINOPHIL\n",
            "66  /tmp/bloodcell/dataset2-master/images/TEST_SIM...  EOSINOPHIL\n",
            "67  /tmp/bloodcell/dataset2-master/images/TEST_SIM...  EOSINOPHIL\n",
            "68  /tmp/bloodcell/dataset2-master/images/TEST_SIM...  EOSINOPHIL\n",
            "69  /tmp/bloodcell/dataset2-master/images/TEST_SIM...  EOSINOPHIL\n",
            "\n",
            "[70 rows x 2 columns]\n"
          ],
          "name": "stdout"
        }
      ]
    },
    {
      "cell_type": "markdown",
      "metadata": {
        "id": "UhyLzKAMRFjM"
      },
      "source": [
        "Shuffling"
      ]
    },
    {
      "cell_type": "code",
      "metadata": {
        "id": "xJRf8oImRBZx"
      },
      "source": [
        "Main_Train_Data = Main_Train_Data.sample(frac=1).reset_index(drop=True)\n",
        "Main_Test_Data = Main_Test_Data.sample(frac=1).reset_index(drop=True)\n",
        "Main_Val_Data = Main_Val_Data.sample(frac=1).reset_index(drop=True)"
      ],
      "execution_count": 25,
      "outputs": []
    },
    {
      "cell_type": "markdown",
      "metadata": {
        "id": "TwJsCKWoRl4R"
      },
      "source": [
        "Determination train and test data"
      ]
    },
    {
      "cell_type": "code",
      "metadata": {
        "id": "5FJsqr1cRqqS"
      },
      "source": [
        "train_datagen = ImageDataGenerator(\n",
        "                    rescale=1./255,\n",
        "                    rotation_range=20,\n",
        "                    horizontal_flip=True,\n",
        "                    shear_range = 0.2,\n",
        "                    fill_mode = 'nearest')\n",
        " \n",
        "test_datagen = ImageDataGenerator(\n",
        "                    rescale=1./255,\n",
        "                    rotation_range=20,\n",
        "                    horizontal_flip=True,\n",
        "                    shear_range = 0.2,\n",
        "                    fill_mode = 'nearest')\n",
        "\n",
        "val_datagen = ImageDataGenerator(\n",
        "                    rescale=1./255,\n",
        "                    rotation_range=20,\n",
        "                    horizontal_flip=True,\n",
        "                    shear_range = 0.2,\n",
        "                    fill_mode = 'nearest')"
      ],
      "execution_count": 26,
      "outputs": []
    },
    {
      "cell_type": "code",
      "metadata": {
        "colab": {
          "base_uri": "https://localhost:8080/"
        },
        "id": "nsLYeVWzR0BL",
        "outputId": "55b5dc0d-4830-4a62-c45b-79913ea71317"
      },
      "source": [
        "Train_IMG_Set = train_datagen.flow_from_dataframe(dataframe=Main_Train_Data,\n",
        "                                                   x_col=\"JPG\",\n",
        "                                                   y_col=\"CATEGORY\",\n",
        "                                                   color_mode=\"rgb\",\n",
        "                                                   class_mode=\"categorical\",\n",
        "                                                   subset=\"training\",\n",
        "                                                   seed=42,\n",
        "                                                   batch_size=32,\n",
        "                                                   target_size=(220,220))"
      ],
      "execution_count": 27,
      "outputs": [
        {
          "output_type": "stream",
          "text": [
            "Found 9957 validated image filenames belonging to 4 classes.\n"
          ],
          "name": "stdout"
        }
      ]
    },
    {
      "cell_type": "code",
      "metadata": {
        "colab": {
          "base_uri": "https://localhost:8080/"
        },
        "id": "5yD4NjLjSbWt",
        "outputId": "a8a6124e-a10c-4382-8982-7e1a3a23f86a"
      },
      "source": [
        "Test_IMG_Set = test_datagen.flow_from_dataframe(dataframe=Main_Test_Data,\n",
        "                                                            x_col=\"JPG\",\n",
        "                                                            y_col=\"CATEGORY\",\n",
        "                                                            color_mode=\"rgb\",\n",
        "                                                            class_mode=\"categorical\",\n",
        "                                                            seed=42,\n",
        "                                                            batch_size=32,\n",
        "                                                            target_size=(220,220))"
      ],
      "execution_count": 28,
      "outputs": [
        {
          "output_type": "stream",
          "text": [
            "Found 2487 validated image filenames belonging to 4 classes.\n"
          ],
          "name": "stdout"
        }
      ]
    },
    {
      "cell_type": "code",
      "metadata": {
        "colab": {
          "base_uri": "https://localhost:8080/"
        },
        "id": "TB-JpMHZR_la",
        "outputId": "9678eb92-257e-4c77-c509-037563027e28"
      },
      "source": [
        "Val_IMG_Set = val_datagen.flow_from_dataframe(dataframe = Main_Val_Data,\n",
        "                                                                  x_col=\"JPG\",\n",
        "                                                                  y_col=\"CATEGORY\",\n",
        "                                                                  color_mode=\"rgb\",\n",
        "                                                                  class_mode=\"categorical\",\n",
        "                                                                  seed=42,\n",
        "                                                                  subset=\"validation\",\n",
        "                                                                  batch_Size=32,\n",
        "                                                                  target_size=(220,200))"
      ],
      "execution_count": 29,
      "outputs": [
        {
          "output_type": "stream",
          "text": [
            "Found 0 validated image filenames belonging to 4 classes.\n"
          ],
          "name": "stdout"
        }
      ]
    },
    {
      "cell_type": "code",
      "metadata": {
        "colab": {
          "base_uri": "https://localhost:8080/"
        },
        "id": "nRvjKOoBsHmD",
        "outputId": "feb5676c-32e2-4970-8c37-92eb59818135"
      },
      "source": [
        "for data_batch,label_batch in Train_IMG_Set:\n",
        "    print(\"DATA SHAPE: \",data_batch.shape)\n",
        "    print(\"LABEL SHAPE: \",label_batch.shape)\n",
        "    break"
      ],
      "execution_count": 30,
      "outputs": [
        {
          "output_type": "stream",
          "text": [
            "DATA SHAPE:  (32, 220, 220, 3)\n",
            "LABEL SHAPE:  (32, 4)\n"
          ],
          "name": "stdout"
        }
      ]
    },
    {
      "cell_type": "code",
      "metadata": {
        "colab": {
          "base_uri": "https://localhost:8080/"
        },
        "id": "pFgdGYdTsJ89",
        "outputId": "4eca3429-9097-44d5-c258-df2b5647597e"
      },
      "source": [
        "for data_batch,label_batch in Val_IMG_Set:\n",
        "    print(\"DATA SHAPE: \",data_batch.shape)\n",
        "    print(\"LABEL SHAPE: \",label_batch.shape)\n",
        "    break"
      ],
      "execution_count": 31,
      "outputs": [
        {
          "output_type": "stream",
          "text": [
            "DATA SHAPE:  (0, 220, 200, 3)\n",
            "LABEL SHAPE:  (0, 4)\n"
          ],
          "name": "stdout"
        }
      ]
    },
    {
      "cell_type": "code",
      "metadata": {
        "colab": {
          "base_uri": "https://localhost:8080/"
        },
        "id": "-itFJZGasNAJ",
        "outputId": "88d7c5dc-1c5c-4cda-9a44-c31ac4bf7f92"
      },
      "source": [
        "for data_batch,label_batch in Test_IMG_Set:\n",
        "    print(\"DATA SHAPE: \",data_batch.shape)\n",
        "    print(\"LABEL SHAPE: \",label_batch.shape)\n",
        "    break"
      ],
      "execution_count": 32,
      "outputs": [
        {
          "output_type": "stream",
          "text": [
            "DATA SHAPE:  (32, 220, 220, 3)\n",
            "LABEL SHAPE:  (32, 4)\n"
          ],
          "name": "stdout"
        }
      ]
    },
    {
      "cell_type": "code",
      "metadata": {
        "colab": {
          "base_uri": "https://localhost:8080/"
        },
        "id": "AvviGUV5sTaq",
        "outputId": "fdf37b95-3766-4e4a-8d70-e0748134b5aa"
      },
      "source": [
        "print(\"TRAIN: \")\n",
        "print(Train_IMG_Set.class_indices)\n",
        "print(Train_IMG_Set.classes[0:5])\n",
        "print(Train_IMG_Set.image_shape)\n",
        "print(\"---\"*20)\n",
        "print(\"VALIDATION: \")\n",
        "print(Val_IMG_Set.class_indices)\n",
        "print(Val_IMG_Set.classes[0:5])\n",
        "print(Val_IMG_Set.image_shape)\n",
        "print(\"---\"*20)\n",
        "print(\"TEST: \")\n",
        "print(Test_IMG_Set.class_indices)\n",
        "print(Test_IMG_Set.classes[0:5])\n",
        "print(Test_IMG_Set.image_shape)"
      ],
      "execution_count": 33,
      "outputs": [
        {
          "output_type": "stream",
          "text": [
            "TRAIN: \n",
            "{'EOSINOPHIL': 0, 'LYMPHOCYTE': 1, 'MONOCYTE': 2, 'NEUTROPHIL': 3}\n",
            "[1, 0, 3, 3, 3]\n",
            "(220, 220, 3)\n",
            "------------------------------------------------------------\n",
            "VALIDATION: \n",
            "{'EOSINOPHIL': 0, 'LYMPHOCYTE': 1, 'MONOCYTE': 2, 'NEUTROPHIL': 3}\n",
            "[]\n",
            "(220, 200, 3)\n",
            "------------------------------------------------------------\n",
            "TEST: \n",
            "{'EOSINOPHIL': 0, 'LYMPHOCYTE': 1, 'MONOCYTE': 2, 'NEUTROPHIL': 3}\n",
            "[0, 3, 3, 2, 0]\n",
            "(220, 220, 3)\n"
          ],
          "name": "stdout"
        }
      ]
    },
    {
      "cell_type": "code",
      "metadata": {
        "id": "dlUdV2BNWjhO"
      },
      "source": [
        "from tensorflow.keras.models import Sequential\n",
        "from keras.layers import Dense, Dropout, Flatten, Conv2D, MaxPool2D, BatchNormalization,MaxPooling2D,BatchNormalization,\\\n",
        "                        Permute, TimeDistributed, Bidirectional,GRU, SimpleRNN, LSTM, GlobalAveragePooling2D, SeparableConv2D\n",
        "Model = Sequential()\n",
        "\n",
        "Model.add(SeparableConv2D(32,3,\n",
        "                          activation=\"relu\", input_shape=(220,220,3)))\n",
        "Model.add(BatchNormalization())\n",
        "Model.add(MaxPooling2D((2)))\n",
        "\n",
        "#\n",
        "Model.add(SeparableConv2D(64,3,\n",
        "                 activation=\"relu\"))\n",
        "Model.add(SeparableConv2D(128,(3,3),\n",
        "                 activation=\"relu\"))\n",
        "Model.add(Dropout(0.5))\n",
        "Model.add(MaxPooling2D((2)))\n",
        "\n",
        "#\n",
        "Model.add(SeparableConv2D(64,3,\n",
        "                 activation=\"relu\"))\n",
        "Model.add(SeparableConv2D(128,3,\n",
        "                 activation=\"relu\"))\n",
        "Model.add(Dropout(0.5))\n",
        "Model.add(GlobalAveragePooling2D())\n",
        "\n",
        "#\n",
        "Model.add(Flatten())\n",
        "Model.add(Dense(256,\n",
        "                activation=\"relu\"))\n",
        "Model.add(Dropout(0.5))\n",
        "Model.add(Dense(4,\n",
        "                activation=\"softmax\"))"
      ],
      "execution_count": 34,
      "outputs": []
    },
    {
      "cell_type": "code",
      "metadata": {
        "id": "aNL8rL7VWw8r"
      },
      "source": [
        "Call_Back = tf.keras.callbacks.EarlyStopping(monitor=\"val_accuracy\",patience=5,mode=\"max\")"
      ],
      "execution_count": 35,
      "outputs": []
    },
    {
      "cell_type": "code",
      "metadata": {
        "id": "zDdrPWoYWzYe"
      },
      "source": [
        "Model.compile(optimizer=\"rmsprop\",loss=\"categorical_crossentropy\",metrics=[\"accuracy\"])"
      ],
      "execution_count": 36,
      "outputs": []
    },
    {
      "cell_type": "code",
      "metadata": {
        "colab": {
          "base_uri": "https://localhost:8080/"
        },
        "id": "H8zZSx4TW7ak",
        "outputId": "2cee5f0c-ca99-4c00-a2b6-6159dbf083a2"
      },
      "source": [
        "history = Model.fit(Train_IMG_Set,\n",
        "                      validation_data=Test_IMG_Set,\n",
        "                      callbacks=Call_Back,\n",
        "                      batch_size=10,\n",
        "                      epochs=20)"
      ],
      "execution_count": 37,
      "outputs": [
        {
          "output_type": "stream",
          "text": [
            "Epoch 1/20\n",
            "312/312 [==============================] - 189s 517ms/step - loss: 1.3649 - accuracy: 0.2768 - val_loss: 1.3800 - val_accuracy: 0.2493\n",
            "Epoch 2/20\n",
            "312/312 [==============================] - 162s 518ms/step - loss: 1.1330 - accuracy: 0.4824 - val_loss: 1.0296 - val_accuracy: 0.6031\n",
            "Epoch 3/20\n",
            "312/312 [==============================] - 162s 519ms/step - loss: 0.8195 - accuracy: 0.6490 - val_loss: 0.8787 - val_accuracy: 0.6425\n",
            "Epoch 4/20\n",
            "312/312 [==============================] - 162s 518ms/step - loss: 0.5181 - accuracy: 0.7850 - val_loss: 1.5226 - val_accuracy: 0.5296\n",
            "Epoch 5/20\n",
            "312/312 [==============================] - 160s 513ms/step - loss: 0.3663 - accuracy: 0.8572 - val_loss: 0.3836 - val_accuracy: 0.8380\n",
            "Epoch 6/20\n",
            "312/312 [==============================] - 161s 517ms/step - loss: 0.2870 - accuracy: 0.8939 - val_loss: 0.5719 - val_accuracy: 0.8183\n",
            "Epoch 7/20\n",
            "312/312 [==============================] - 161s 515ms/step - loss: 0.2428 - accuracy: 0.9111 - val_loss: 1.1831 - val_accuracy: 0.7366\n",
            "Epoch 8/20\n",
            "312/312 [==============================] - 161s 515ms/step - loss: 0.2128 - accuracy: 0.9236 - val_loss: 0.4886 - val_accuracy: 0.8014\n",
            "Epoch 9/20\n",
            "312/312 [==============================] - 160s 513ms/step - loss: 0.1888 - accuracy: 0.9296 - val_loss: 0.5317 - val_accuracy: 0.8613\n",
            "Epoch 10/20\n",
            "312/312 [==============================] - 161s 515ms/step - loss: 0.1704 - accuracy: 0.9371 - val_loss: 2.0693 - val_accuracy: 0.7016\n",
            "Epoch 11/20\n",
            "312/312 [==============================] - 159s 510ms/step - loss: 0.1629 - accuracy: 0.9396 - val_loss: 1.6972 - val_accuracy: 0.7069\n",
            "Epoch 12/20\n",
            "312/312 [==============================] - 160s 514ms/step - loss: 0.1539 - accuracy: 0.9449 - val_loss: 1.5985 - val_accuracy: 0.7447\n",
            "Epoch 13/20\n",
            "312/312 [==============================] - 160s 514ms/step - loss: 0.1410 - accuracy: 0.9485 - val_loss: 0.2639 - val_accuracy: 0.8577\n",
            "Epoch 14/20\n",
            "312/312 [==============================] - 160s 513ms/step - loss: 0.1358 - accuracy: 0.9500 - val_loss: 0.2877 - val_accuracy: 0.8866\n",
            "Epoch 15/20\n",
            "312/312 [==============================] - 160s 512ms/step - loss: 0.1245 - accuracy: 0.9552 - val_loss: 0.2887 - val_accuracy: 0.8677\n",
            "Epoch 16/20\n",
            "312/312 [==============================] - 160s 514ms/step - loss: 0.1264 - accuracy: 0.9525 - val_loss: 0.4161 - val_accuracy: 0.8552\n",
            "Epoch 17/20\n",
            "312/312 [==============================] - 158s 507ms/step - loss: 0.1156 - accuracy: 0.9564 - val_loss: 1.5632 - val_accuracy: 0.6707\n",
            "Epoch 18/20\n",
            "312/312 [==============================] - 160s 512ms/step - loss: 0.1171 - accuracy: 0.9584 - val_loss: 0.4795 - val_accuracy: 0.8693\n",
            "Epoch 19/20\n",
            "312/312 [==============================] - 160s 511ms/step - loss: 0.1179 - accuracy: 0.9602 - val_loss: 0.3658 - val_accuracy: 0.8902\n",
            "Epoch 20/20\n",
            "312/312 [==============================] - 160s 512ms/step - loss: 0.1054 - accuracy: 0.9629 - val_loss: 1.7055 - val_accuracy: 0.7475\n"
          ],
          "name": "stdout"
        }
      ]
    },
    {
      "cell_type": "code",
      "metadata": {
        "colab": {
          "base_uri": "https://localhost:8080/",
          "height": 573
        },
        "id": "PYrNfalY99n5",
        "outputId": "48d074ea-1017-4a6d-b28d-8bb1e6944e7a"
      },
      "source": [
        "import matplotlib.pyplot as plt\n",
        "plt.plot(history.history['loss'])\n",
        "plt.plot(history.history['val_loss'])\n",
        "plt.title(\"model loss\")\n",
        "plt.ylabel(\"loss\")\n",
        "plt.xlabel(\"Epoch\")\n",
        "plt.legend(['Train', ],loc=\"upper right\")\n",
        "plt.show()\n",
        "\n",
        "plt.plot(history.history['accuracy'])\n",
        "plt.plot(history.history['val_accuracy'])\n",
        "plt.title(\"model accuracy\")\n",
        "plt.xlabel(\"Accuracy\")\n",
        "plt.ylabel(\"Epoch\")\n",
        "plt.legend(['Train', 'validation'],loc=\"lower right\")\n",
        "plt.show()"
      ],
      "execution_count": 38,
      "outputs": [
        {
          "output_type": "display_data",
          "data": {
            "image/png": "[encoded data removed]",
            "text/plain": [
              "<Figure size 432x288 with 1 Axes>"
            ]
          },
          "metadata": {
            "tags": [],
            "needs_background": "light"
          }
        },
        {
          "output_type": "display_data",
          "data": {
            "image/png": "[encoded data removed]",
            "text/plain": [
              "<Figure size 432x288 with 1 Axes>"
            ]
          },
          "metadata": {
            "tags": [],
            "needs_background": "light"
          }
        }
      ]
    },
    {
      "cell_type": "code",
      "metadata": {
        "colab": {
          "base_uri": "https://localhost:8080/",
          "height": 236
        },
        "id": "B1RikENu8Pp7",
        "outputId": "028e775d-7a99-435c-f68c-dbb38884e273"
      },
      "source": [
        "from tensorflow.keras.models import load_model\n",
        "\n",
        "import numpy as np\n",
        "from google.colab import files\n",
        "from keras.preprocessing import image\n",
        "import matplotlib.pyplot as plt\n",
        "import matplotlib.image as mpimg\n",
        "import matplotlib.pyplot as plt\n",
        "import matplotlib.image as mpimg\n",
        "%matplotlib inline\n",
        "#memprediksi gambar\n",
        "path = fn\n",
        "img = image.load_img(path, target_size=(150,150))\n",
        "imgplot = plt.imshow(img)\n",
        "x = image.img_to_array(img)\n",
        "x = np.expand_dims(x, axis=0)\n",
        "\n",
        "images = np.vstack([x])\n",
        "classes = model.predict(images, batch_size=10)\n",
        "\n",
        "print (fn)\n",
        "\n",
        "print (classes) # untuk mengecek secara manual\n",
        "\n",
        "#setcode agar dapat mem-print hasil klasifikasi\n",
        "EOSINOPHIL = np.array([[0, 1, 0, 0]])\n",
        "LYMPHOCYTE = np.array([[0, 0, 1, 0]])\n",
        "MONOCYTE = np.array([[1, 0, 0, 0]])\n",
        "NEUTROPHIL = np.array([[0, 0, 0, 1]])\n",
        "comparison_EOSINOPHIL = classes==EOSINOPHIL\n",
        "equal_arrays_EOSINOPHIL = comparison_EOSINOPHIL.all()\n",
        "comparison_LYMPHOCYTE = classes==LYMPHOCYTE\n",
        "equal_arrays_LYMPHOCYTE = comparison_LYMPHOCYTE.all()\n",
        "comparison_MONOCYTE = classes==MONOCYTE\n",
        "equal_arrays_MONOCYTE = comparison_MONOCYTE.all()\n",
        "  \n",
        "if equal_arrays_EOSINOPHIL:\n",
        "   print('This is EOSINOPHIL!')\n",
        "elif equal_arrays_LYMPHOCYTE:\n",
        "   print('This is LYMPHOCYTE!')\n",
        "elif equal_arrays_MONOCYTE:\n",
        "   print('This is MONOCYTE!')\n",
        "else:\n",
        "   print('This is NEUTROPHIL!')"
      ],
      "execution_count": 48,
      "outputs": [
        {
          "output_type": "error",
          "ename": "NameError",
          "evalue": "ignored",
          "traceback": [
            "\u001b[0;31m---------------------------------------------------------------------------\u001b[0m",
            "\u001b[0;31mNameError\u001b[0m                                 Traceback (most recent call last)",
            "\u001b[0;32m<ipython-input-48-307ff87db00d>\u001b[0m in \u001b[0;36m<module>\u001b[0;34m()\u001b[0m\n\u001b[1;32m     10\u001b[0m \u001b[0mget_ipython\u001b[0m\u001b[0;34m(\u001b[0m\u001b[0;34m)\u001b[0m\u001b[0;34m.\u001b[0m\u001b[0mmagic\u001b[0m\u001b[0;34m(\u001b[0m\u001b[0;34m'matplotlib inline'\u001b[0m\u001b[0;34m)\u001b[0m\u001b[0;34m\u001b[0m\u001b[0;34m\u001b[0m\u001b[0m\n\u001b[1;32m     11\u001b[0m \u001b[0;31m#memprediksi gambar\u001b[0m\u001b[0;34m\u001b[0m\u001b[0;34m\u001b[0m\u001b[0;34m\u001b[0m\u001b[0m\n\u001b[0;32m---> 12\u001b[0;31m \u001b[0mpath\u001b[0m \u001b[0;34m=\u001b[0m \u001b[0mfn\u001b[0m\u001b[0;34m\u001b[0m\u001b[0;34m\u001b[0m\u001b[0m\n\u001b[0m\u001b[1;32m     13\u001b[0m \u001b[0mimg\u001b[0m \u001b[0;34m=\u001b[0m \u001b[0mimage\u001b[0m\u001b[0;34m.\u001b[0m\u001b[0mload_img\u001b[0m\u001b[0;34m(\u001b[0m\u001b[0mpath\u001b[0m\u001b[0;34m,\u001b[0m \u001b[0mtarget_size\u001b[0m\u001b[0;34m=\u001b[0m\u001b[0;34m(\u001b[0m\u001b[0;36m150\u001b[0m\u001b[0;34m,\u001b[0m\u001b[0;36m150\u001b[0m\u001b[0;34m)\u001b[0m\u001b[0;34m)\u001b[0m\u001b[0;34m\u001b[0m\u001b[0;34m\u001b[0m\u001b[0m\n\u001b[1;32m     14\u001b[0m \u001b[0mimgplot\u001b[0m \u001b[0;34m=\u001b[0m \u001b[0mplt\u001b[0m\u001b[0;34m.\u001b[0m\u001b[0mimshow\u001b[0m\u001b[0;34m(\u001b[0m\u001b[0mimg\u001b[0m\u001b[0;34m)\u001b[0m\u001b[0;34m\u001b[0m\u001b[0;34m\u001b[0m\u001b[0m\n",
            "\u001b[0;31mNameError\u001b[0m: name 'fn' is not defined"
          ]
        }
      ]
    },
    {
      "cell_type": "code",
      "metadata": {
        "id": "H2zA9Lg9-L-C",
        "colab": {
          "base_uri": "https://localhost:8080/",
          "height": 184
        },
        "outputId": "18fe46d3-99df-4593-8bc5-3925e87546a4"
      },
      "source": [
        "convert = tf.lite.TFLiteConverter.from_keras_model(model)\n",
        "tflite_model =convert.convert()"
      ],
      "execution_count": 40,
      "outputs": [
        {
          "output_type": "error",
          "ename": "NameError",
          "evalue": "ignored",
          "traceback": [
            "\u001b[0;31m---------------------------------------------------------------------------\u001b[0m",
            "\u001b[0;31mNameError\u001b[0m                                 Traceback (most recent call last)",
            "\u001b[0;32m<ipython-input-40-b4228d184bb4>\u001b[0m in \u001b[0;36m<module>\u001b[0;34m()\u001b[0m\n\u001b[0;32m----> 1\u001b[0;31m \u001b[0mconvert\u001b[0m \u001b[0;34m=\u001b[0m \u001b[0mtf\u001b[0m\u001b[0;34m.\u001b[0m\u001b[0mlite\u001b[0m\u001b[0;34m.\u001b[0m\u001b[0mTFLiteConverter\u001b[0m\u001b[0;34m.\u001b[0m\u001b[0mfrom_keras_model\u001b[0m\u001b[0;34m(\u001b[0m\u001b[0mmodel\u001b[0m\u001b[0;34m)\u001b[0m\u001b[0;34m\u001b[0m\u001b[0;34m\u001b[0m\u001b[0m\n\u001b[0m\u001b[1;32m      2\u001b[0m \u001b[0mtflite_model\u001b[0m \u001b[0;34m=\u001b[0m\u001b[0mconvert\u001b[0m\u001b[0;34m.\u001b[0m\u001b[0mconvert\u001b[0m\u001b[0;34m(\u001b[0m\u001b[0;34m)\u001b[0m\u001b[0;34m\u001b[0m\u001b[0;34m\u001b[0m\u001b[0m\n",
            "\u001b[0;31mNameError\u001b[0m: name 'model' is not defined"
          ]
        }
      ]
    },
    {
      "cell_type": "code",
      "metadata": {
        "id": "DuMh5lxr-PIB"
      },
      "source": [
        "with tf.io.gfile.GFile('model.tflite','wb') as f:\n",
        "  f.write(tflite_model)"
      ],
      "execution_count": null,
      "outputs": []
    },
    {
      "cell_type": "markdown",
      "metadata": {
        "id": "7vbH518O99TK"
      },
      "source": [
        ""
      ]
    }
  ]
}