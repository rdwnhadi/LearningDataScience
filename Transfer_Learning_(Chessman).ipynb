{
  "nbformat": 4,
  "nbformat_minor": 0,
  "metadata": {
    "colab": {
      "name": "Transfer Learning (Chessman)",
      "provenance": [],
      "authorship_tag": "ABX9TyPm6kvC+L7SGThfeqvOOKvG",
      "include_colab_link": true
    },
    "kernelspec": {
      "name": "python3",
      "display_name": "Python 3"
    },
    "language_info": {
      "name": "python"
    }
  },
  "cells": [
    {
      "cell_type": "markdown",
      "metadata": {
        "id": "view-in-github",
        "colab_type": "text"
      },
      "source": [
        "<a href=\"https://colab.research.google.com/github/rdwnhadi/LearningDataScience/blob/main/Transfer_Learning_(Chessman).ipynb\" target=\"_parent\"><img src=\"https://colab.research.google.com/assets/colab-badge.svg\" alt=\"Open In Colab\"/></a>"
      ]
    },
    {
      "cell_type": "code",
      "metadata": {
        "colab": {
          "base_uri": "https://localhost:8080/"
        },
        "id": "URTM8RqGAIjt",
        "outputId": "bac9e65a-3e65-4bcd-89c4-df9ba2f3f066"
      },
      "source": [
        "!wget --no-check-certificate \\\n",
        "  https://dicodingacademy.blob.core.windows.net/picodiploma/ml_pengembangan_academy/Chessman-image-dataset.zip \\\n",
        "  -O /tmp/Chessman-image-dataset.zip"
      ],
      "execution_count": 1,
      "outputs": [
        {
          "output_type": "stream",
          "text": [
            "--2021-07-15 07:11:17--  https://dicodingacademy.blob.core.windows.net/picodiploma/ml_pengembangan_academy/Chessman-image-dataset.zip\n",
            "Resolving dicodingacademy.blob.core.windows.net (dicodingacademy.blob.core.windows.net)... 52.239.197.36\n",
            "Connecting to dicodingacademy.blob.core.windows.net (dicodingacademy.blob.core.windows.net)|52.239.197.36|:443... connected.\n",
            "HTTP request sent, awaiting response... 200 OK\n",
            "Length: 60684125 (58M) [application/zip]\n",
            "Saving to: ‘/tmp/Chessman-image-dataset.zip’\n",
            "\n",
            "/tmp/Chessman-image 100%[===================>]  57.87M  7.44MB/s    in 8.6s    \n",
            "\n",
            "2021-07-15 07:11:26 (6.73 MB/s) - ‘/tmp/Chessman-image-dataset.zip’ saved [60684125/60684125]\n",
            "\n"
          ],
          "name": "stdout"
        }
      ]
    },
    {
      "cell_type": "code",
      "metadata": {
        "id": "Nu9H7RpPAacg"
      },
      "source": [
        "import os\n",
        "import zipfile\n",
        "from tensorflow.keras.preprocessing.image import ImageDataGenerator\n",
        "local_zip = '/tmp/Chessman-image-dataset.zip'\n",
        "zip_ref = zipfile.ZipFile(local_zip, 'r')\n",
        "zip_ref.extractall('/tmp')\n",
        "zip_ref.close()\n",
        "train_dir = os.path.join('/tmp/Chessman-image-dataset/Chess')\n",
        "train_datagen = ImageDataGenerator(rescale=1./255,\n",
        "    rotation_range=20,\n",
        "    zoom_range=0.2,\n",
        "    shear_range=0.2,\n",
        "    fill_mode = 'nearest',\n",
        "    validation_split=0.1) # set validation split"
      ],
      "execution_count": 2,
      "outputs": []
    },
    {
      "cell_type": "code",
      "metadata": {
        "colab": {
          "base_uri": "https://localhost:8080/"
        },
        "id": "CKhCa-FuAdBE",
        "outputId": "a9d763e8-5198-4194-b640-ad8290fe2367"
      },
      "source": [
        "train_generator = train_datagen.flow_from_directory(\n",
        "    train_dir,\n",
        "    target_size=(150, 150),\n",
        "    batch_size=8,\n",
        "    class_mode='categorical',\n",
        "    subset='training') # set as training data\n",
        "validation_generator = train_datagen.flow_from_directory(\n",
        "    train_dir, # same directory as training data\n",
        "    target_size=(150, 150),\n",
        "    batch_size=16,\n",
        "    class_mode='categorical',\n",
        "    subset='validation')"
      ],
      "execution_count": 3,
      "outputs": [
        {
          "output_type": "stream",
          "text": [
            "Found 499 images belonging to 6 classes.\n",
            "Found 52 images belonging to 6 classes.\n"
          ],
          "name": "stdout"
        }
      ]
    },
    {
      "cell_type": "code",
      "metadata": {
        "colab": {
          "base_uri": "https://localhost:8080/"
        },
        "id": "WO82V1d8AhIm",
        "outputId": "b6f59341-5ff4-4a6a-8947-ec2ffaf95044"
      },
      "source": [
        "import tensorflow as tf\n",
        "from tensorflow.keras.layers import Input\n",
        "from tensorflow.keras.applications import ResNet50\n",
        "from tensorflow.keras.applications import ResNet152V2\n",
        "model = tf.keras.models.Sequential([\n",
        "    ResNet152V2(weights=\"imagenet\", include_top=False, input_tensor=Input(shape=(150, 150, 3))),\n",
        "    # tf.keras.layers.Dropout(0.4),\n",
        "    tf.keras.layers.Flatten(), \n",
        "    tf.keras.layers.Dense(512, activation='relu'),\n",
        "    tf.keras.layers.Dense(256, activation='relu'),\n",
        "    tf.keras.layers.Dense(6, activation='softmax')  \n",
        "])\n",
        "model.layers[0].trainable = False"
      ],
      "execution_count": 4,
      "outputs": [
        {
          "output_type": "stream",
          "text": [
            "Downloading data from https://storage.googleapis.com/tensorflow/keras-applications/resnet/resnet152v2_weights_tf_dim_ordering_tf_kernels_notop.h5\n",
            "234553344/234545216 [==============================] - 2s 0us/step\n"
          ],
          "name": "stdout"
        }
      ]
    },
    {
      "cell_type": "code",
      "metadata": {
        "id": "zScTZFS5Aiwu"
      },
      "source": [
        "model.compile(optimizer=tf.optimizers.Adam(),\n",
        "              loss='categorical_crossentropy',\n",
        "              metrics = ['accuracy'])"
      ],
      "execution_count": 5,
      "outputs": []
    },
    {
      "cell_type": "code",
      "metadata": {
        "colab": {
          "base_uri": "https://localhost:8080/"
        },
        "id": "mt_E13K_Akt8",
        "outputId": "bc8418ac-414c-4f81-cbbe-52046b9bd032"
      },
      "source": [
        "history = model.fit(train_generator,\n",
        "                              validation_data=validation_generator,\n",
        "                              epochs=50,\n",
        "                              verbose=2)"
      ],
      "execution_count": 6,
      "outputs": [
        {
          "output_type": "stream",
          "text": [
            "Epoch 1/50\n",
            "63/63 - 142s - loss: 8.9194 - accuracy: 0.4469 - val_loss: 3.6889 - val_accuracy: 0.5577\n",
            "Epoch 2/50\n",
            "63/63 - 130s - loss: 1.7776 - accuracy: 0.7014 - val_loss: 1.5953 - val_accuracy: 0.5962\n",
            "Epoch 3/50\n",
            "63/63 - 132s - loss: 1.2382 - accuracy: 0.7315 - val_loss: 0.9693 - val_accuracy: 0.6923\n",
            "Epoch 4/50\n",
            "63/63 - 131s - loss: 0.9216 - accuracy: 0.7816 - val_loss: 2.1269 - val_accuracy: 0.5769\n",
            "Epoch 5/50\n",
            "63/63 - 131s - loss: 0.6941 - accuracy: 0.8056 - val_loss: 0.8823 - val_accuracy: 0.7500\n",
            "Epoch 6/50\n",
            "63/63 - 130s - loss: 0.5834 - accuracy: 0.8517 - val_loss: 0.8723 - val_accuracy: 0.7115\n",
            "Epoch 7/50\n",
            "63/63 - 135s - loss: 0.5508 - accuracy: 0.8697 - val_loss: 0.8846 - val_accuracy: 0.8077\n",
            "Epoch 8/50\n",
            "63/63 - 133s - loss: 0.4181 - accuracy: 0.8758 - val_loss: 0.5249 - val_accuracy: 0.8077\n",
            "Epoch 9/50\n",
            "63/63 - 133s - loss: 0.4863 - accuracy: 0.8758 - val_loss: 1.0533 - val_accuracy: 0.8077\n",
            "Epoch 10/50\n",
            "63/63 - 132s - loss: 0.3951 - accuracy: 0.8838 - val_loss: 1.0251 - val_accuracy: 0.7692\n",
            "Epoch 11/50\n",
            "63/63 - 132s - loss: 0.4071 - accuracy: 0.9018 - val_loss: 1.0547 - val_accuracy: 0.7692\n",
            "Epoch 12/50\n",
            "63/63 - 134s - loss: 0.4225 - accuracy: 0.8878 - val_loss: 1.7761 - val_accuracy: 0.7115\n",
            "Epoch 13/50\n",
            "63/63 - 130s - loss: 0.2557 - accuracy: 0.9299 - val_loss: 0.9055 - val_accuracy: 0.8654\n",
            "Epoch 14/50\n",
            "63/63 - 130s - loss: 0.4734 - accuracy: 0.8978 - val_loss: 0.6701 - val_accuracy: 0.8077\n",
            "Epoch 15/50\n",
            "63/63 - 131s - loss: 0.5393 - accuracy: 0.9038 - val_loss: 0.7539 - val_accuracy: 0.8077\n",
            "Epoch 16/50\n",
            "63/63 - 131s - loss: 0.3689 - accuracy: 0.9359 - val_loss: 1.3993 - val_accuracy: 0.6923\n",
            "Epoch 17/50\n",
            "63/63 - 130s - loss: 0.4147 - accuracy: 0.8998 - val_loss: 1.6112 - val_accuracy: 0.6731\n",
            "Epoch 18/50\n",
            "63/63 - 128s - loss: 0.3620 - accuracy: 0.9198 - val_loss: 3.4212 - val_accuracy: 0.6538\n",
            "Epoch 19/50\n",
            "63/63 - 128s - loss: 0.3052 - accuracy: 0.9238 - val_loss: 1.8324 - val_accuracy: 0.7308\n",
            "Epoch 20/50\n",
            "63/63 - 131s - loss: 0.2309 - accuracy: 0.9379 - val_loss: 1.5150 - val_accuracy: 0.7500\n",
            "Epoch 21/50\n",
            "63/63 - 131s - loss: 0.2449 - accuracy: 0.9459 - val_loss: 1.1176 - val_accuracy: 0.7692\n",
            "Epoch 22/50\n",
            "63/63 - 130s - loss: 0.1809 - accuracy: 0.9479 - val_loss: 1.0966 - val_accuracy: 0.7692\n",
            "Epoch 23/50\n",
            "63/63 - 130s - loss: 0.1694 - accuracy: 0.9459 - val_loss: 1.1112 - val_accuracy: 0.7500\n",
            "Epoch 24/50\n",
            "63/63 - 132s - loss: 0.1893 - accuracy: 0.9419 - val_loss: 0.8183 - val_accuracy: 0.8269\n",
            "Epoch 25/50\n",
            "63/63 - 133s - loss: 0.1211 - accuracy: 0.9659 - val_loss: 0.5123 - val_accuracy: 0.8269\n",
            "Epoch 26/50\n",
            "63/63 - 132s - loss: 0.2555 - accuracy: 0.9399 - val_loss: 1.1245 - val_accuracy: 0.8077\n",
            "Epoch 27/50\n",
            "63/63 - 132s - loss: 0.2489 - accuracy: 0.9479 - val_loss: 0.7977 - val_accuracy: 0.8269\n",
            "Epoch 28/50\n",
            "63/63 - 133s - loss: 0.2837 - accuracy: 0.9379 - val_loss: 0.8936 - val_accuracy: 0.8846\n",
            "Epoch 29/50\n",
            "63/63 - 132s - loss: 0.0938 - accuracy: 0.9699 - val_loss: 1.0997 - val_accuracy: 0.7692\n",
            "Epoch 30/50\n",
            "63/63 - 132s - loss: 0.3037 - accuracy: 0.9479 - val_loss: 1.2861 - val_accuracy: 0.7500\n",
            "Epoch 31/50\n",
            "63/63 - 133s - loss: 0.2476 - accuracy: 0.9379 - val_loss: 1.5426 - val_accuracy: 0.7500\n",
            "Epoch 32/50\n",
            "63/63 - 133s - loss: 0.1299 - accuracy: 0.9579 - val_loss: 1.8043 - val_accuracy: 0.6923\n",
            "Epoch 33/50\n",
            "63/63 - 134s - loss: 0.1919 - accuracy: 0.9439 - val_loss: 1.0416 - val_accuracy: 0.7885\n",
            "Epoch 34/50\n",
            "63/63 - 134s - loss: 0.1801 - accuracy: 0.9539 - val_loss: 1.0557 - val_accuracy: 0.8077\n",
            "Epoch 35/50\n",
            "63/63 - 135s - loss: 0.2260 - accuracy: 0.9539 - val_loss: 1.2343 - val_accuracy: 0.8077\n",
            "Epoch 36/50\n",
            "63/63 - 135s - loss: 0.1868 - accuracy: 0.9459 - val_loss: 1.8460 - val_accuracy: 0.7692\n",
            "Epoch 37/50\n",
            "63/63 - 134s - loss: 0.1888 - accuracy: 0.9579 - val_loss: 1.7889 - val_accuracy: 0.7115\n",
            "Epoch 38/50\n",
            "63/63 - 134s - loss: 0.0682 - accuracy: 0.9800 - val_loss: 1.5654 - val_accuracy: 0.7308\n",
            "Epoch 39/50\n",
            "63/63 - 131s - loss: 0.1536 - accuracy: 0.9639 - val_loss: 1.0956 - val_accuracy: 0.8654\n",
            "Epoch 40/50\n",
            "63/63 - 132s - loss: 0.1507 - accuracy: 0.9599 - val_loss: 1.2221 - val_accuracy: 0.7500\n",
            "Epoch 41/50\n",
            "63/63 - 131s - loss: 0.2010 - accuracy: 0.9499 - val_loss: 0.7390 - val_accuracy: 0.8846\n",
            "Epoch 42/50\n",
            "63/63 - 133s - loss: 0.0820 - accuracy: 0.9780 - val_loss: 1.1495 - val_accuracy: 0.7308\n",
            "Epoch 43/50\n",
            "63/63 - 133s - loss: 0.1598 - accuracy: 0.9639 - val_loss: 0.9180 - val_accuracy: 0.8269\n",
            "Epoch 44/50\n",
            "63/63 - 131s - loss: 0.1788 - accuracy: 0.9579 - val_loss: 1.2370 - val_accuracy: 0.7500\n",
            "Epoch 45/50\n",
            "63/63 - 131s - loss: 0.0689 - accuracy: 0.9800 - val_loss: 0.8572 - val_accuracy: 0.7885\n",
            "Epoch 46/50\n",
            "63/63 - 130s - loss: 0.1301 - accuracy: 0.9599 - val_loss: 1.0916 - val_accuracy: 0.7885\n",
            "Epoch 47/50\n",
            "63/63 - 132s - loss: 0.0942 - accuracy: 0.9760 - val_loss: 1.2423 - val_accuracy: 0.7885\n",
            "Epoch 48/50\n",
            "63/63 - 130s - loss: 0.2207 - accuracy: 0.9559 - val_loss: 1.2356 - val_accuracy: 0.7885\n",
            "Epoch 49/50\n",
            "63/63 - 131s - loss: 0.2482 - accuracy: 0.9519 - val_loss: 2.1804 - val_accuracy: 0.6923\n",
            "Epoch 50/50\n",
            "63/63 - 131s - loss: 0.1932 - accuracy: 0.9519 - val_loss: 2.0696 - val_accuracy: 0.6923\n"
          ],
          "name": "stdout"
        }
      ]
    }
  ]
}