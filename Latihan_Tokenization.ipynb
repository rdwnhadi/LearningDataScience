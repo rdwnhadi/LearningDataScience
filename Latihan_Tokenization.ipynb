{
  "nbformat": 4,
  "nbformat_minor": 0,
  "metadata": {
    "colab": {
      "name": "Latihan Tokenization",
      "provenance": [],
      "authorship_tag": "ABX9TyMHRAaslLovBy1syw1FKxd7",
      "include_colab_link": true
    },
    "kernelspec": {
      "name": "python3",
      "display_name": "Python 3"
    },
    "language_info": {
      "name": "python"
    }
  },
  "cells": [
    {
      "cell_type": "markdown",
      "metadata": {
        "id": "view-in-github",
        "colab_type": "text"
      },
      "source": [
        "<a href=\"https://colab.research.google.com/github/rdwnhadi/LearningDataScience/blob/main/Latihan_Tokenization.ipynb\" target=\"_parent\"><img src=\"https://colab.research.google.com/assets/colab-badge.svg\" alt=\"Open In Colab\"/></a>"
      ]
    },
    {
      "cell_type": "code",
      "metadata": {
        "id": "QKNwdZmeIr9Q"
      },
      "source": [
        "#import text tokenizer\n",
        "from tensorflow.keras.preprocessing.text import Tokenizer"
      ],
      "execution_count": 1,
      "outputs": []
    },
    {
      "cell_type": "code",
      "metadata": {
        "id": "4cltO_vdI0nM"
      },
      "source": [
        "tokenizer = Tokenizer(num_words= 15, oov_token='-')"
      ],
      "execution_count": 2,
      "outputs": []
    },
    {
      "cell_type": "markdown",
      "metadata": {
        "id": "IuRrp89xI6bZ"
      },
      "source": [
        "Jika parameter num_words diisi 15, maka hanya 15 huruf yang paling sering muncul akan ditokenisasi dari seluruh kata pada dataset. Parameter oov_token adalah parameter yang berfungsi untuk mengganti kata-kata yang tidak ditokenisasi menjadi karakter tertentu"
      ]
    },
    {
      "cell_type": "code",
      "metadata": {
        "id": "i5U22aMZJBWw"
      },
      "source": [
        "teks = ['Saya suka programming',\n",
        "        'Programming sangat menyenangkan!',\n",
        "        'Machine Learning berbeda dengan pemrograman konvensional']"
      ],
      "execution_count": 3,
      "outputs": []
    },
    {
      "cell_type": "code",
      "metadata": {
        "id": "mlnLIc4VI60X"
      },
      "source": [
        "#tokenisasi\n",
        "tokenizer.fit_on_texts(teks)"
      ],
      "execution_count": 4,
      "outputs": []
    },
    {
      "cell_type": "code",
      "metadata": {
        "id": "jZe5dvtXJKFv"
      },
      "source": [
        "#mengubah kalimat ke dalam nilai yang sesuai dengan fungsi texts_to_sequences.\n",
        "sequences = tokenizer.texts_to_sequences(teks)"
      ],
      "execution_count": 5,
      "outputs": []
    },
    {
      "cell_type": "code",
      "metadata": {
        "colab": {
          "base_uri": "https://localhost:8080/"
        },
        "id": "9PyTXq7hJJ_H",
        "outputId": "d83d4049-2919-40ab-a948-b5c0420a5cfa"
      },
      "source": [
        "print(tokenizer.word_index)"
      ],
      "execution_count": 6,
      "outputs": [
        {
          "output_type": "stream",
          "text": [
            "{'-': 1, 'programming': 2, 'saya': 3, 'suka': 4, 'sangat': 5, 'menyenangkan': 6, 'machine': 7, 'learning': 8, 'berbeda': 9, 'dengan': 10, 'pemrograman': 11, 'konvensional': 12}\n"
          ],
          "name": "stdout"
        }
      ]
    },
    {
      "cell_type": "code",
      "metadata": {
        "colab": {
          "base_uri": "https://localhost:8080/"
        },
        "id": "14blNZQcJXIQ",
        "outputId": "b559b2ee-ada8-4599-c65d-4d0161852f1c"
      },
      "source": [
        "print(tokenizer.texts_to_sequences(['Saya suka programming']))\n",
        "print(tokenizer.texts_to_sequences(['Saya suka belajar programming sejak SMP']))"
      ],
      "execution_count": 7,
      "outputs": [
        {
          "output_type": "stream",
          "text": [
            "[[3, 4, 2]]\n",
            "[[3, 4, 1, 2, 1, 1]]\n"
          ],
          "name": "stdout"
        }
      ]
    },
    {
      "cell_type": "code",
      "metadata": {
        "id": "qGKHYT9YJyDl"
      },
      "source": [
        "#untuk menyamakan panjang sequence digunakan pading\n",
        "from tensorflow.keras.preprocessing.sequence import pad_sequences\n",
        "sequences_samapanjang = pad_sequences(sequences)"
      ],
      "execution_count": 8,
      "outputs": []
    },
    {
      "cell_type": "code",
      "metadata": {
        "colab": {
          "base_uri": "https://localhost:8080/"
        },
        "id": "hMEGz7LwJ7x_",
        "outputId": "5655d96b-74f9-45a2-fc87-42d82e7ae1ce"
      },
      "source": [
        "print(sequences_samapanjang)"
      ],
      "execution_count": 9,
      "outputs": [
        {
          "output_type": "stream",
          "text": [
            "[[ 0  0  0  3  4  2]\n",
            " [ 0  0  0  2  5  6]\n",
            " [ 7  8  9 10 11 12]]\n"
          ],
          "name": "stdout"
        }
      ]
    },
    {
      "cell_type": "code",
      "metadata": {
        "id": "4iZ9RswQKBNC"
      },
      "source": [
        "sequences_samapanjang = pad_sequences(sequences, \n",
        "                                      padding='post',\n",
        "                                      maxlen=5)"
      ],
      "execution_count": 11,
      "outputs": []
    },
    {
      "cell_type": "markdown",
      "metadata": {
        "id": "lwg6D7F1KGoY"
      },
      "source": [
        "Jika kita ingin merubah sehingga 0 ditambahkan di akhir sequence, kita dapat menggunakan parameter padding dengan nilai ‘post’. Selain itu kita dapat mengatur berapa maksimum panjang setiap sequence dengan parameter maxlen dan nilai yang kita inginkan. Jika kita mengisi nilai 5, maka panjang sebuah sequence tidak akan melebihi 5. "
      ]
    },
    {
      "cell_type": "code",
      "metadata": {
        "id": "ynGjNjCuKH43"
      },
      "source": [
        "sequences_samapanjang = pad_sequences(sequences, \n",
        "                                      padding='post',\n",
        "                                      maxlen=5,\n",
        "                                      truncating='post')"
      ],
      "execution_count": 14,
      "outputs": []
    },
    {
      "cell_type": "markdown",
      "metadata": {
        "id": "lNufYjzBKSom"
      },
      "source": [
        "Jika teks kita memiliki panjang lebih dari nilai parameter maxlen misalnya 5, maka secara default nilai dari sequence akan diambil 5 nilai terakhir atau 5 kata terakhir saja dari setiap kalimat. Untuk mengubah pengaturan ini dan mengambil 5 kata terakhir dari tiap kalimat, kita dapat menggunakan parameter truncating dan mengisi nilai ‘post’."
      ]
    },
    {
      "cell_type": "code",
      "metadata": {
        "colab": {
          "base_uri": "https://localhost:8080/"
        },
        "id": "jrkawwBVKTWY",
        "outputId": "b7308a85-c30f-4ffd-ba74-9977491e2419"
      },
      "source": [
        "print(sequences_samapanjang)"
      ],
      "execution_count": 15,
      "outputs": [
        {
          "output_type": "stream",
          "text": [
            "[[ 3  4  2  0  0]\n",
            " [ 2  5  6  0  0]\n",
            " [ 7  8  9 10 11]]\n"
          ],
          "name": "stdout"
        }
      ]
    }
  ]
}